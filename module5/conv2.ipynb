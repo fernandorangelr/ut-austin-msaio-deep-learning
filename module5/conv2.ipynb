{
 "cells": [
  {
   "cell_type": "code",
   "id": "initial_id",
   "metadata": {
    "collapsed": true,
    "ExecuteTime": {
     "end_time": "2025-03-23T02:47:45.922954Z",
     "start_time": "2025-03-23T02:47:45.920385Z"
    }
   },
   "source": "import torch",
   "outputs": [],
   "execution_count": 6
  },
  {
   "metadata": {
    "ExecuteTime": {
     "end_time": "2025-03-23T02:50:18.244347Z",
     "start_time": "2025-03-23T02:50:18.190148Z"
    }
   },
   "cell_type": "code",
   "source": [
    "class ConvNet(torch.nn.Module):\n",
    "    class Block(torch.nn.Module):\n",
    "        def __init__(self, in_channels: int, out_channels: int, stride: int) -> None:\n",
    "            super().__init__()\n",
    "            kernel_size = 3\n",
    "            padding = (kernel_size - 1) // 2\n",
    "            self.c1 = torch.nn.Conv2d(in_channels, out_channels, kernel_size, stride, padding)\n",
    "            self.c2 = torch.nn.Conv2d(out_channels, out_channels, kernel_size, 1, padding)\n",
    "            self.c3 = torch.nn.Conv2d(out_channels, out_channels, kernel_size, 1, padding)\n",
    "            self.relu = torch.nn.ReLU()\n",
    "\n",
    "        def forward(self, x: torch.Tensor) -> torch.Tensor:\n",
    "            x = self.relu(self.c1(x))\n",
    "            x = self.relu(self.c2(x))\n",
    "            x = self.relu(self.c3(x))\n",
    "            return x\n",
    "\n",
    "    def __init__(self, channels_l0 = 64, n_blocks = 4) -> None:\n",
    "        super().__init__()\n",
    "        cnn_layers = [\n",
    "            torch.nn.Conv2d(3, channels_l0, kernel_size=11, stride=2, padding=5),\n",
    "            torch.nn.ReLU()\n",
    "        ]\n",
    "        c1 = channels_l0\n",
    "        for _ in range(n_blocks):\n",
    "            c2 = c1 * 2\n",
    "            cnn_layers.append(self.Block(c1, c2, stride=2))\n",
    "            c1 = c2\n",
    "        cnn_layers.append(torch.nn.Conv2d(c1, 1, kernel_size=1)) # 1x1 convolution\n",
    "        # cnn_layers.append(torch.nn.AdaptiveAvgPool2d(1)) # Pool everything together and average the outputs\n",
    "        self.network = torch.nn.Sequential(*cnn_layers)\n",
    "\n",
    "    def forward(self, x: torch.Tensor) -> torch.Tensor:\n",
    "        return self.network(x)\n",
    "\n",
    "net = ConvNet(n_blocks=3)\n",
    "x = torch.randn(1, 3, 64, 64)\n",
    "print(net(x).shape)"
   ],
   "id": "5336f3ba89657da3",
   "outputs": [
    {
     "name": "stdout",
     "output_type": "stream",
     "text": [
      "torch.Size([1, 1, 4, 4])\n"
     ]
    }
   ],
   "execution_count": 9
  }
 ],
 "metadata": {
  "kernelspec": {
   "display_name": "Python 3",
   "language": "python",
   "name": "python3"
  },
  "language_info": {
   "codemirror_mode": {
    "name": "ipython",
    "version": 2
   },
   "file_extension": ".py",
   "mimetype": "text/x-python",
   "name": "python",
   "nbconvert_exporter": "python",
   "pygments_lexer": "ipython2",
   "version": "2.7.6"
  }
 },
 "nbformat": 4,
 "nbformat_minor": 5
}
