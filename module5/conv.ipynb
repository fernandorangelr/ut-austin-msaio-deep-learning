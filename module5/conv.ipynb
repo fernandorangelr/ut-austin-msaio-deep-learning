{
 "cells": [
  {
   "cell_type": "code",
   "id": "initial_id",
   "metadata": {
    "collapsed": true,
    "ExecuteTime": {
     "end_time": "2025-03-21T00:06:56.366947Z",
     "start_time": "2025-03-21T00:06:56.360766Z"
    }
   },
   "source": [
    "import torch\n",
    "from typing import Any"
   ],
   "outputs": [],
   "execution_count": 28
  },
  {
   "metadata": {
    "ExecuteTime": {
     "end_time": "2025-03-21T00:06:57.625151Z",
     "start_time": "2025-03-21T00:06:57.622155Z"
    }
   },
   "cell_type": "code",
   "source": [
    "kernel_size = 3\n",
    "net = torch.nn.Conv2d(in_channels=1, out_channels=16, kernel_size=kernel_size, stride=1, padding=(kernel_size-1)//2)"
   ],
   "id": "e0ce32ed328f5d48",
   "outputs": [],
   "execution_count": 29
  },
  {
   "metadata": {
    "ExecuteTime": {
     "end_time": "2025-03-21T00:06:58.855815Z",
     "start_time": "2025-03-21T00:06:58.853118Z"
    }
   },
   "cell_type": "code",
   "source": [
    "x = torch.randn(1, 1, 28, 28)\n",
    "print(x.shape)"
   ],
   "id": "3f4892f390c2a6de",
   "outputs": [
    {
     "name": "stdout",
     "output_type": "stream",
     "text": [
      "torch.Size([1, 1, 28, 28])\n"
     ]
    }
   ],
   "execution_count": 30
  },
  {
   "metadata": {
    "ExecuteTime": {
     "end_time": "2025-03-21T00:07:06.961300Z",
     "start_time": "2025-03-21T00:07:06.957394Z"
    }
   },
   "cell_type": "code",
   "source": [
    "y = net(x)\n",
    "print(y.shape) # The output is halved because we skipped (stride) by 2"
   ],
   "id": "cfbb10f77dea18ea",
   "outputs": [
    {
     "name": "stdout",
     "output_type": "stream",
     "text": [
      "torch.Size([1, 16, 28, 28])\n"
     ]
    }
   ],
   "execution_count": 31
  },
  {
   "metadata": {
    "ExecuteTime": {
     "end_time": "2025-03-21T00:14:21.598309Z",
     "start_time": "2025-03-21T00:14:21.591361Z"
    }
   },
   "cell_type": "code",
   "source": [
    "class ConvNet(torch.nn.Module):\n",
    "    def __init__(self, layers = [16, 32, 64], kernel_size = 3, stride = 1) -> None:\n",
    "        super().__init__()\n",
    "        cnn_layers = []\n",
    "        c1 = 1\n",
    "        for c2 in layers:\n",
    "            cnn_layers.append(torch.nn.Conv2d(c1, c2, kernel_size, stride, (kernel_size-1)//2))\n",
    "            cnn_layers.append(torch.nn.ReLU())\n",
    "            c1 = c2\n",
    "        cnn_layers.append(torch.nn.Conv2d(c1, 1, kernel_size=1)) # 1x1 convolution\n",
    "        # cnn_layers.append(torch.nn.AdaptiveAvgPool2d(1)) # Pool everything together and average the outputs\n",
    "        self.network = torch.nn.Sequential(*cnn_layers)\n",
    "\n",
    "    def forward(self, x) -> Any:\n",
    "        return self.network(x)\n",
    "\n",
    "net = ConvNet(stride=2)\n",
    "print(net(x).shape)"
   ],
   "id": "5336f3ba89657da3",
   "outputs": [
    {
     "name": "stdout",
     "output_type": "stream",
     "text": [
      "torch.Size([1, 1, 4, 4])\n"
     ]
    }
   ],
   "execution_count": 38
  },
  {
   "metadata": {
    "ExecuteTime": {
     "end_time": "2025-03-21T02:55:15.262079Z",
     "start_time": "2025-03-21T02:55:15.208536Z"
    }
   },
   "cell_type": "code",
   "source": [
    "from matplotlib import pyplot as plt\n",
    "\n",
    "x = torch.randn(1, 1, 28, 28, requires_grad=True)\n",
    "# x[0, 0, 10, 10] = float('NaN') # This value will infect a bunch of convolutions around it. This is not the same as the receptive field\n",
    "net = ConvNet(stride=1)\n",
    "y = net(x)\n",
    "z = y.new_zeros(y.shape)\n",
    "z[0, 0, z.shape[2]//2, z.shape[3]//2] = float('NaN')\n",
    "(y * z).sum().backward()\n",
    "plt.imshow(x.grad[0, 0].detach().numpy())"
   ],
   "id": "c8893944c5804913",
   "outputs": [
    {
     "data": {
      "text/plain": [
       "<matplotlib.image.AxesImage at 0x118a76810>"
      ]
     },
     "execution_count": 46,
     "metadata": {},
     "output_type": "execute_result"
    },
    {
     "data": {
      "text/plain": [
       "<Figure size 640x480 with 1 Axes>"
      ],
      "image/png": "[encoded data removed]"
     },
     "metadata": {},
     "output_type": "display_data"
    }
   ],
   "execution_count": 46
  }
 ],
 "metadata": {
  "kernelspec": {
   "display_name": "Python 3",
   "language": "python",
   "name": "python3"
  },
  "language_info": {
   "codemirror_mode": {
    "name": "ipython",
    "version": 2
   },
   "file_extension": ".py",
   "mimetype": "text/x-python",
   "name": "python",
   "nbconvert_exporter": "python",
   "pygments_lexer": "ipython2",
   "version": "2.7.6"
  }
 },
 "nbformat": 4,
 "nbformat_minor": 5
}
