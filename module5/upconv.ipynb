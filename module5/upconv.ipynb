{
 "cells": [
  {
   "cell_type": "code",
   "id": "initial_id",
   "metadata": {
    "collapsed": true,
    "ExecuteTime": {
     "end_time": "2025-03-23T18:07:45.347959Z",
     "start_time": "2025-03-23T18:07:45.342349Z"
    }
   },
   "source": "import torch",
   "outputs": [],
   "execution_count": 2
  },
  {
   "metadata": {
    "ExecuteTime": {
     "end_time": "2025-03-23T18:17:08.588417Z",
     "start_time": "2025-03-23T18:17:08.569637Z"
    }
   },
   "cell_type": "code",
   "source": [
    "in_channels = 1\n",
    "out_channels = 1\n",
    "kernel_size = 3\n",
    "net1 = torch.nn.Sequential(\n",
    "    torch.nn.Conv2d(in_channels, out_channels, kernel_size, stride=2, padding=1, dilation=1),\n",
    "    torch.nn.ReLU(),\n",
    "    torch.nn.Conv2d(out_channels, out_channels, kernel_size, stride=1, padding=1, dilation=1),\n",
    ")\n",
    "net2 = torch.nn.Sequential(\n",
    "    torch.nn.Conv2d(in_channels, out_channels, kernel_size, stride=1, padding=1, dilation=1),\n",
    "    torch.nn.ReLU(),\n",
    "    torch.nn.Conv2d(out_channels, out_channels, kernel_size, stride=1, padding=2, dilation=2),\n",
    ")\n",
    "for p1, p2 in zip(net1.parameters(), net2.parameters()):\n",
    "    \"\"\"\n",
    "    If we clone the parameters, we will see that one network's parameters are a subset of the other's parameters.\n",
    "    \"\"\"\n",
    "    p2.data = p1.data.clone()\n",
    "    p2.requires_grad = True\n",
    "\n",
    "x = torch.zeros(1, 1, 32, 32)\n",
    "print(x.shape, net1(x).shape)\n",
    "print(x.shape, net2(x).shape)\n",
    "y1 = net1(x)\n",
    "y2 = net2(x)\n",
    "print(y1)\n",
    "print(y2)"
   ],
   "id": "ef244138e90ce278",
   "outputs": [
    {
     "name": "stdout",
     "output_type": "stream",
     "text": [
      "torch.Size([1, 1, 32, 32]) torch.Size([1, 1, 16, 16])\n",
      "torch.Size([1, 1, 32, 32]) torch.Size([1, 1, 32, 32])\n",
      "tensor([[[[0.4120, 0.4187, 0.4187, 0.4187, 0.4187, 0.4187, 0.4187, 0.4187,\n",
      "           0.4187, 0.4187, 0.4187, 0.4187, 0.4187, 0.4187, 0.4187, 0.3333],\n",
      "          [0.5605, 0.6562, 0.6562, 0.6562, 0.6562, 0.6562, 0.6562, 0.6562,\n",
      "           0.6562, 0.6562, 0.6562, 0.6562, 0.6562, 0.6562, 0.6562, 0.5093],\n",
      "          [0.5605, 0.6562, 0.6562, 0.6562, 0.6562, 0.6562, 0.6562, 0.6562,\n",
      "           0.6562, 0.6562, 0.6562, 0.6562, 0.6562, 0.6562, 0.6562, 0.5093],\n",
      "          [0.5605, 0.6562, 0.6562, 0.6562, 0.6562, 0.6562, 0.6562, 0.6562,\n",
      "           0.6562, 0.6562, 0.6562, 0.6562, 0.6562, 0.6562, 0.6562, 0.5093],\n",
      "          [0.5605, 0.6562, 0.6562, 0.6562, 0.6562, 0.6562, 0.6562, 0.6562,\n",
      "           0.6562, 0.6562, 0.6562, 0.6562, 0.6562, 0.6562, 0.6562, 0.5093],\n",
      "          [0.5605, 0.6562, 0.6562, 0.6562, 0.6562, 0.6562, 0.6562, 0.6562,\n",
      "           0.6562, 0.6562, 0.6562, 0.6562, 0.6562, 0.6562, 0.6562, 0.5093],\n",
      "          [0.5605, 0.6562, 0.6562, 0.6562, 0.6562, 0.6562, 0.6562, 0.6562,\n",
      "           0.6562, 0.6562, 0.6562, 0.6562, 0.6562, 0.6562, 0.6562, 0.5093],\n",
      "          [0.5605, 0.6562, 0.6562, 0.6562, 0.6562, 0.6562, 0.6562, 0.6562,\n",
      "           0.6562, 0.6562, 0.6562, 0.6562, 0.6562, 0.6562, 0.6562, 0.5093],\n",
      "          [0.5605, 0.6562, 0.6562, 0.6562, 0.6562, 0.6562, 0.6562, 0.6562,\n",
      "           0.6562, 0.6562, 0.6562, 0.6562, 0.6562, 0.6562, 0.6562, 0.5093],\n",
      "          [0.5605, 0.6562, 0.6562, 0.6562, 0.6562, 0.6562, 0.6562, 0.6562,\n",
      "           0.6562, 0.6562, 0.6562, 0.6562, 0.6562, 0.6562, 0.6562, 0.5093],\n",
      "          [0.5605, 0.6562, 0.6562, 0.6562, 0.6562, 0.6562, 0.6562, 0.6562,\n",
      "           0.6562, 0.6562, 0.6562, 0.6562, 0.6562, 0.6562, 0.6562, 0.5093],\n",
      "          [0.5605, 0.6562, 0.6562, 0.6562, 0.6562, 0.6562, 0.6562, 0.6562,\n",
      "           0.6562, 0.6562, 0.6562, 0.6562, 0.6562, 0.6562, 0.6562, 0.5093],\n",
      "          [0.5605, 0.6562, 0.6562, 0.6562, 0.6562, 0.6562, 0.6562, 0.6562,\n",
      "           0.6562, 0.6562, 0.6562, 0.6562, 0.6562, 0.6562, 0.6562, 0.5093],\n",
      "          [0.5605, 0.6562, 0.6562, 0.6562, 0.6562, 0.6562, 0.6562, 0.6562,\n",
      "           0.6562, 0.6562, 0.6562, 0.6562, 0.6562, 0.6562, 0.6562, 0.5093],\n",
      "          [0.5605, 0.6562, 0.6562, 0.6562, 0.6562, 0.6562, 0.6562, 0.6562,\n",
      "           0.6562, 0.6562, 0.6562, 0.6562, 0.6562, 0.6562, 0.6562, 0.5093],\n",
      "          [0.5046, 0.5802, 0.5802, 0.5802, 0.5802, 0.5802, 0.5802, 0.5802,\n",
      "           0.5802, 0.5802, 0.5802, 0.5802, 0.5802, 0.5802, 0.5802, 0.5166]]]],\n",
      "       grad_fn=<ConvolutionBackward0>)\n",
      "tensor([[[[0.4120, 0.4120, 0.4187,  ..., 0.4187, 0.3333, 0.3333],\n",
      "          [0.4120, 0.4120, 0.4187,  ..., 0.4187, 0.3333, 0.3333],\n",
      "          [0.5605, 0.5605, 0.6562,  ..., 0.6562, 0.5093, 0.5093],\n",
      "          ...,\n",
      "          [0.5605, 0.5605, 0.6562,  ..., 0.6562, 0.5093, 0.5093],\n",
      "          [0.5046, 0.5046, 0.5802,  ..., 0.5802, 0.5166, 0.5166],\n",
      "          [0.5046, 0.5046, 0.5802,  ..., 0.5802, 0.5166, 0.5166]]]],\n",
      "       grad_fn=<ConvolutionBackward0>)\n"
     ]
    }
   ],
   "execution_count": 11
  },
  {
   "metadata": {
    "ExecuteTime": {
     "end_time": "2025-03-23T18:19:11.687844Z",
     "start_time": "2025-03-23T18:19:11.669260Z"
    }
   },
   "cell_type": "code",
   "source": [
    "in_channels = 1\n",
    "out_channels = 1\n",
    "kernel_size = 3\n",
    "net1 = torch.nn.Sequential(\n",
    "    torch.nn.Conv2d(in_channels, out_channels, kernel_size, stride=2, padding=1, dilation=1),\n",
    "    torch.nn.ReLU(),\n",
    "    torch.nn.Conv2d(out_channels, out_channels, kernel_size, stride=1, padding=1, dilation=1),\n",
    "    torch.nn.ReLU(),\n",
    "    torch.nn.ConvTranspose2d(out_channels, out_channels, kernel_size, stride=2, padding=1, output_padding=1),\n",
    ")\n",
    "x = torch.randn(1, 1, 5, 5)\n",
    "print(net1(x).shape)"
   ],
   "id": "d014eb1a5ce468a2",
   "outputs": [
    {
     "name": "stdout",
     "output_type": "stream",
     "text": [
      "torch.Size([1, 1, 6, 6])\n"
     ]
    }
   ],
   "execution_count": 14
  }
 ],
 "metadata": {
  "kernelspec": {
   "display_name": "Python 3",
   "language": "python",
   "name": "python3"
  },
  "language_info": {
   "codemirror_mode": {
    "name": "ipython",
    "version": 2
   },
   "file_extension": ".py",
   "mimetype": "text/x-python",
   "name": "python",
   "nbconvert_exporter": "python",
   "pygments_lexer": "ipython2",
   "version": "2.7.6"
  }
 },
 "nbformat": 4,
 "nbformat_minor": 5
}
