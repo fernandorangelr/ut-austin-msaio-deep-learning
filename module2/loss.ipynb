{
 "cells": [
  {
   "cell_type": "code",
   "id": "initial_id",
   "metadata": {
    "collapsed": true,
    "ExecuteTime": {
     "end_time": "2025-02-20T19:29:11.973217Z",
     "start_time": "2025-02-20T19:29:11.027439Z"
    }
   },
   "source": "import torch",
   "outputs": [],
   "execution_count": 1
  },
  {
   "metadata": {
    "ExecuteTime": {
     "end_time": "2025-02-20T19:29:17.990713Z",
     "start_time": "2025-02-20T19:29:17.986760Z"
    }
   },
   "cell_type": "code",
   "source": "model = torch.nn.Linear(10, 1)",
   "id": "300959835f6ff3f1",
   "outputs": [],
   "execution_count": 2
  },
  {
   "metadata": {
    "ExecuteTime": {
     "end_time": "2025-02-20T19:30:09.643057Z",
     "start_time": "2025-02-20T19:30:09.632918Z"
    }
   },
   "cell_type": "code",
   "source": [
    "# Create a random dataset\n",
    "x = torch.randn(20, 10)\n",
    "y = torch.randn(20, 1)\n",
    "print(f'{x=} {y=}')"
   ],
   "id": "3805536c49668843",
   "outputs": [
    {
     "name": "stdout",
     "output_type": "stream",
     "text": [
      "x=tensor([[-0.1668, -0.4933,  0.0553, -1.9558,  0.7145, -0.3047,  0.3821, -0.1001,\n",
      "         -1.3081,  2.2872],\n",
      "        [-0.9478, -0.3660, -0.2879,  0.5468,  0.3305, -1.0989, -0.9752,  0.1009,\n",
      "          1.6604,  0.1770],\n",
      "        [ 1.5685,  0.5307, -0.0988, -0.2243,  0.1477,  0.1746, -0.1415, -0.9044,\n",
      "         -0.8623, -1.7588],\n",
      "        [-0.4879, -0.4711,  0.8299, -0.1260,  0.7085, -0.7535, -2.6868,  2.4048,\n",
      "         -0.0134, -0.5823],\n",
      "        [ 0.2641, -1.0960,  0.0218,  1.0555,  1.5332, -0.7671, -0.1570,  0.6562,\n",
      "         -0.6593, -0.8071],\n",
      "        [ 2.0274,  0.5738,  0.6846,  0.3827,  0.2613, -0.7169,  0.1843, -0.1534,\n",
      "         -0.5392,  0.7915],\n",
      "        [ 2.1574, -1.3566, -0.3219, -1.7855, -1.0466,  1.5040, -0.4585,  0.9308,\n",
      "          0.6859, -0.8177],\n",
      "        [-0.4447, -0.3602, -0.6891, -0.2494, -0.5876, -0.5441, -0.1897,  0.0665,\n",
      "         -0.1318,  1.2119],\n",
      "        [ 1.6757, -1.0197,  0.8368,  0.9534, -0.2253, -0.3606, -1.3000, -1.1262,\n",
      "          1.1972, -0.7318],\n",
      "        [-0.0094, -0.6874,  0.4571, -0.9729, -1.5886,  0.0325,  0.2673,  1.3689,\n",
      "          0.4096, -0.5295],\n",
      "        [-1.4099,  0.8896, -0.2381,  0.0985, -0.9749, -0.4281,  2.0215,  0.7268,\n",
      "          1.4606, -0.3360],\n",
      "        [-0.5366,  1.1234,  0.4659,  0.0790,  0.2943, -0.6453,  0.7685,  0.5394,\n",
      "          1.1639, -0.1586],\n",
      "        [-0.4026, -0.3170, -1.2891,  1.1011, -0.7408,  1.4116, -0.5679,  0.6832,\n",
      "          0.2179, -0.1337],\n",
      "        [-2.4497, -0.3419, -0.9845, -0.8058,  0.2033, -1.2558,  0.5184,  0.5069,\n",
      "          0.1862,  0.6888],\n",
      "        [ 1.0843, -0.2519, -0.4206,  0.5508,  2.2007, -0.4991, -1.2493, -0.3612,\n",
      "         -0.3912, -0.0651],\n",
      "        [ 0.1902,  1.0044,  1.8048,  1.8753,  2.1983, -0.4957,  0.9449, -0.5956,\n",
      "         -0.1953,  0.2936],\n",
      "        [ 2.1098,  1.1726, -1.3130,  1.0015, -0.7546,  0.3184, -2.9116, -1.9263,\n",
      "         -0.3188,  0.1396],\n",
      "        [-0.0245,  0.0819,  0.7561,  0.9259,  1.3041,  0.2909, -0.1939, -0.8141,\n",
      "          0.8316, -1.6986],\n",
      "        [ 1.1144, -0.9498, -1.8637, -1.3366,  1.3410,  1.7824,  0.7523,  0.1969,\n",
      "         -0.3844, -1.5999],\n",
      "        [-0.4936, -0.9252, -0.8355, -0.6116, -1.2258,  1.4642,  0.9254,  0.0383,\n",
      "         -2.1321,  0.0512]]) y=tensor([[-0.1451],\n",
      "        [ 0.7341],\n",
      "        [-0.7620],\n",
      "        [-1.5141],\n",
      "        [ 0.6359],\n",
      "        [ 0.5406],\n",
      "        [-0.7949],\n",
      "        [-0.7176],\n",
      "        [ 0.0425],\n",
      "        [ 0.9045],\n",
      "        [-1.6127],\n",
      "        [-1.1221],\n",
      "        [-0.5167],\n",
      "        [ 0.5817],\n",
      "        [-0.2122],\n",
      "        [-1.2216],\n",
      "        [ 0.5319],\n",
      "        [ 0.3286],\n",
      "        [-0.3365],\n",
      "        [-0.2233]])\n"
     ]
    }
   ],
   "execution_count": 4
  },
  {
   "metadata": {
    "ExecuteTime": {
     "end_time": "2025-02-20T19:30:37.811959Z",
     "start_time": "2025-02-20T19:30:37.797479Z"
    }
   },
   "cell_type": "code",
   "source": [
    "pred_y = model(x)\n",
    "print(pred_y)"
   ],
   "id": "de4f169267a35007",
   "outputs": [
    {
     "name": "stdout",
     "output_type": "stream",
     "text": [
      "tensor([[ 0.2217],\n",
      "        [-0.1005],\n",
      "        [-0.2605],\n",
      "        [ 0.0949],\n",
      "        [-0.5224],\n",
      "        [ 0.1850],\n",
      "        [-0.4291],\n",
      "        [ 0.2619],\n",
      "        [-0.2394],\n",
      "        [ 0.0722],\n",
      "        [-0.1549],\n",
      "        [-0.1430],\n",
      "        [-0.4100],\n",
      "        [ 0.0786],\n",
      "        [-0.4302],\n",
      "        [-0.5072],\n",
      "        [ 0.3808],\n",
      "        [-0.8224],\n",
      "        [-1.2032],\n",
      "        [-0.1649]], grad_fn=<AddmmBackward0>)\n"
     ]
    }
   ],
   "execution_count": 5
  },
  {
   "metadata": {
    "ExecuteTime": {
     "end_time": "2025-02-20T19:31:30.490691Z",
     "start_time": "2025-02-20T19:31:30.488168Z"
    }
   },
   "cell_type": "code",
   "source": [
    "# Compare our values (y) with the predicted values (pred_y)\n",
    "loss = torch.nn.functional.mse_loss(pred_y, y)\n",
    "print(loss)"
   ],
   "id": "e105685e2f51bff9",
   "outputs": [
    {
     "name": "stdout",
     "output_type": "stream",
     "text": [
      "tensor(0.6507, grad_fn=<MseLossBackward0>)\n"
     ]
    }
   ],
   "execution_count": 7
  },
  {
   "metadata": {
    "ExecuteTime": {
     "end_time": "2025-02-20T19:33:06.242856Z",
     "start_time": "2025-02-20T19:33:06.229704Z"
    }
   },
   "cell_type": "code",
   "source": [
    "def mse_loss(pred_y, y):\n",
    "    return torch.mean((pred_y - y) ** 2)\n",
    "mse_loss(pred_y, y)"
   ],
   "id": "374f31e76df640cf",
   "outputs": [
    {
     "data": {
      "text/plain": [
       "tensor(0.6507, grad_fn=<MeanBackward0>)"
      ]
     },
     "execution_count": 9,
     "metadata": {},
     "output_type": "execute_result"
    }
   ],
   "execution_count": 9
  },
  {
   "metadata": {
    "ExecuteTime": {
     "end_time": "2025-02-20T19:34:09.123583Z",
     "start_time": "2025-02-20T19:34:09.120246Z"
    }
   },
   "cell_type": "code",
   "source": [
    "# Binary Classification\n",
    "y = (torch.randn(20, 1) > 0).float()\n",
    "print(y)"
   ],
   "id": "7cf88b9e2591d932",
   "outputs": [
    {
     "name": "stdout",
     "output_type": "stream",
     "text": [
      "tensor([[1.],\n",
      "        [0.],\n",
      "        [0.],\n",
      "        [1.],\n",
      "        [0.],\n",
      "        [1.],\n",
      "        [0.],\n",
      "        [0.],\n",
      "        [0.],\n",
      "        [1.],\n",
      "        [1.],\n",
      "        [0.],\n",
      "        [1.],\n",
      "        [0.],\n",
      "        [1.],\n",
      "        [0.],\n",
      "        [1.],\n",
      "        [0.],\n",
      "        [1.],\n",
      "        [1.]])\n"
     ]
    }
   ],
   "execution_count": 13
  },
  {
   "metadata": {
    "ExecuteTime": {
     "end_time": "2025-02-20T19:35:14.079072Z",
     "start_time": "2025-02-20T19:35:14.075646Z"
    }
   },
   "cell_type": "code",
   "source": [
    "loss = torch.nn.functional.binary_cross_entropy_with_logits(pred_y, y) # Using this method allows us to use the linear model we previously defined without needing to add the sigmoid. This method will add the sigmoid and then evaluate the loss\n",
    "print(loss)"
   ],
   "id": "be90cecbe35e78b5",
   "outputs": [
    {
     "name": "stdout",
     "output_type": "stream",
     "text": [
      "tensor(0.6838, grad_fn=<BinaryCrossEntropyWithLogitsBackward0>)\n"
     ]
    }
   ],
   "execution_count": 15
  },
  {
   "metadata": {
    "ExecuteTime": {
     "end_time": "2025-02-20T19:38:14.755414Z",
     "start_time": "2025-02-20T19:38:14.751087Z"
    }
   },
   "cell_type": "code",
   "source": [
    "# Multi-class classification\n",
    "n_classes = 3\n",
    "model = torch.nn.Linear(10, n_classes)\n",
    "y = (torch.randn(20) > 0).long() + (torch.randn(20) > 0).long() # We add them to get three labels: [0, 1, 2]\n",
    "print(y)"
   ],
   "id": "15ad174d5df66eda",
   "outputs": [
    {
     "name": "stdout",
     "output_type": "stream",
     "text": [
      "tensor([1, 1, 1, 1, 1, 1, 1, 1, 1, 1, 0, 1, 1, 0, 0, 2, 1, 2, 1, 2])\n"
     ]
    }
   ],
   "execution_count": 22
  },
  {
   "metadata": {
    "ExecuteTime": {
     "end_time": "2025-02-20T19:38:23.274595Z",
     "start_time": "2025-02-20T19:38:23.259065Z"
    }
   },
   "cell_type": "code",
   "source": [
    "pred_y = model(x)\n",
    "loss = torch.nn.functional.cross_entropy(pred_y, y) # Again, have the loss function compute the softmax, never add it to the model\n",
    "print(loss)"
   ],
   "id": "dfd4f41f3e9b97d9",
   "outputs": [
    {
     "name": "stdout",
     "output_type": "stream",
     "text": [
      "tensor(1.0865, grad_fn=<NllLossBackward0>)\n"
     ]
    }
   ],
   "execution_count": 24
  }
 ],
 "metadata": {
  "kernelspec": {
   "display_name": "Python 3",
   "language": "python",
   "name": "python3"
  },
  "language_info": {
   "codemirror_mode": {
    "name": "ipython",
    "version": 2
   },
   "file_extension": ".py",
   "mimetype": "text/x-python",
   "name": "python",
   "nbconvert_exporter": "python",
   "pygments_lexer": "ipython2",
   "version": "2.7.6"
  }
 },
 "nbformat": 4,
 "nbformat_minor": 5
}
