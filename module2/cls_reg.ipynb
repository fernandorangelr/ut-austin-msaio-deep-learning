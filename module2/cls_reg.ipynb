{
 "cells": [
  {
   "cell_type": "code",
   "id": "initial_id",
   "metadata": {
    "collapsed": true,
    "ExecuteTime": {
     "end_time": "2025-02-20T17:47:38.778999Z",
     "start_time": "2025-02-20T17:47:35.399567Z"
    }
   },
   "source": "import torch",
   "outputs": [],
   "execution_count": 1
  },
  {
   "metadata": {
    "ExecuteTime": {
     "end_time": "2025-02-20T17:47:49.590011Z",
     "start_time": "2025-02-20T17:47:49.579713Z"
    }
   },
   "cell_type": "code",
   "source": "model = torch.nn.Linear(10, 1)",
   "id": "fedd6ae00bfcf1cc",
   "outputs": [],
   "execution_count": 2
  },
  {
   "metadata": {
    "ExecuteTime": {
     "end_time": "2025-02-20T17:49:37.013688Z",
     "start_time": "2025-02-20T17:49:37.009247Z"
    }
   },
   "cell_type": "code",
   "source": [
    "x = torch.zeros(10)\n",
    "model(x)"
   ],
   "id": "53f5272d86d7e13c",
   "outputs": [
    {
     "data": {
      "text/plain": [
       "tensor([-0.0757], grad_fn=<ViewBackward0>)"
      ]
     },
     "execution_count": 8,
     "metadata": {},
     "output_type": "execute_result"
    }
   ],
   "execution_count": 8
  },
  {
   "metadata": {
    "ExecuteTime": {
     "end_time": "2025-02-20T18:30:50.014247Z",
     "start_time": "2025-02-20T18:30:50.009987Z"
    }
   },
   "cell_type": "code",
   "source": [
    "# Linear Binary Classification\n",
    "class LinearClassifier(torch.nn.Module):\n",
    "    def __init__(self, input_dim, output_dim) -> None:\n",
    "        super().__init__()\n",
    "        self.fc = torch.nn.Linear(input_dim, output_dim)\n",
    "\n",
    "    def forward(self, x) -> torch.Tensor:\n",
    "        return torch.nn.functional.sigmoid(self.fc(x))  # In practice, we shouldn't add this here as it is numerically unstable. We should do this outside this class when training our networks\n",
    "\n",
    "model = LinearClassifier(10, 1)\n",
    "x = torch.ones(10)\n",
    "model(x)"
   ],
   "id": "43f81b36df2ccd1d",
   "outputs": [
    {
     "data": {
      "text/plain": [
       "tensor([0.3953], grad_fn=<SigmoidBackward0>)"
      ]
     },
     "execution_count": 13,
     "metadata": {},
     "output_type": "execute_result"
    }
   ],
   "execution_count": 13
  },
  {
   "metadata": {
    "ExecuteTime": {
     "end_time": "2025-02-20T19:28:32.513019Z",
     "start_time": "2025-02-20T19:28:32.453164Z"
    }
   },
   "cell_type": "code",
   "source": [
    "# Linear Multi-Class Classification\n",
    "class LinearClassifier(torch.nn.Module):\n",
    "    def __init__(self, input_dim, n_classes) -> None:\n",
    "        super().__init__()\n",
    "        self.fc = torch.nn.Linear(input_dim, n_classes)\n",
    "\n",
    "    def forward(self, x) -> torch.Tensor:\n",
    "        # Do the softmax on the last dimension\n",
    "        return torch.nn.functional.softmax(self.fc(x), dim=-1) # In practice, we shouldn't add this here as it is numerically unstable. We should do this outside this class when training our networks\n",
    "\n",
    "model = LinearClassifier(10, 4)\n",
    "x = torch.ones(10)\n",
    "model(x)"
   ],
   "id": "fba62099e88b3e89",
   "outputs": [
    {
     "data": {
      "text/plain": [
       "tensor([0.0897, 0.8214, 0.0417, 0.0473], grad_fn=<SoftmaxBackward0>)"
      ]
     },
     "execution_count": 18,
     "metadata": {},
     "output_type": "execute_result"
    }
   ],
   "execution_count": 18
  }
 ],
 "metadata": {
  "kernelspec": {
   "display_name": "Python 3",
   "language": "python",
   "name": "python3"
  },
  "language_info": {
   "codemirror_mode": {
    "name": "ipython",
    "version": 2
   },
   "file_extension": ".py",
   "mimetype": "text/x-python",
   "name": "python",
   "nbconvert_exporter": "python",
   "pygments_lexer": "ipython2",
   "version": "2.7.6"
  }
 },
 "nbformat": 4,
 "nbformat_minor": 5
}
