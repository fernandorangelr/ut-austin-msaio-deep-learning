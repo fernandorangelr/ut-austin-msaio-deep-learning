{
  "nbformat": 4,
  "nbformat_minor": 0,
  "metadata": {
    "colab": {
      "provenance": [],
      "gpuType": "T4"
    },
    "kernelspec": {
      "name": "python3",
      "display_name": "Python 3"
    },
    "language_info": {
      "name": "python"
    },
    "accelerator": "GPU"
  },
  "cells": [
    {
      "cell_type": "markdown",
      "source": [
        "## General Colab Tips\n",
        "- Modify files by opening/editing them in the UI (double-click to open).\n",
        "- `Right click > Refresh` in the Colab file explorer to update the directory.\n",
        "- All files are lost when the Colab session disconnects, so make sure back up your work.\n",
        "- Do **not** use `drive.mount` for your datasets! Reading from GDrive is super slow.\n",
        "- Instead, place datasets into the `/content/` folder and modify your data accordingly.\n",
        "\n",
        "**Make a copy of this notebook and modify this to whatever workflow you prefer!**\n",
        "\n",
        "If you have some additional colab tips, please share them on the discussion forum.\n",
        "\n",
        "## Setup\n",
        "\n",
        "First, enable a GPU runtime via `Runtime > Change runtime type > T4 GPU`\n",
        "\n",
        "Next, upload the your project files to the Colab. You can do this by either\n",
        "- using Github (**recommended**)\n",
        "- uploading files manually using the UI\n",
        "\n",
        "## Github Setup\n",
        "\n",
        "You can use git from within Google Colab!\n",
        "\n",
        "For this section, we assume you know how to use git and have already pushed the starter code to a private repo.\n",
        "\n",
        "Before you continue, make sure you download and push the starter code to your repo.  \n",
        "It's a good idea to structure your repo something like\n",
        "```\n",
        "online_deep_learning/\n",
        "    homework1/\n",
        "    homework2/\n",
        "    ...\n",
        "```\n",
        "\n",
        "We highly recommend using this workflow as you'll be able to easily pull/commit your changes after modifying your model on Colab.\n",
        "\n",
        "To do this, you'll need a personal access token from [https://github.com/settings/tokens](https://github.com/settings/tokens)\n",
        "\n",
        "The easiest thing to do is select \"classic\" token and make sure you have the `repo` scope selected to allow access to your private repos.\n",
        "There's also fine-grained tokens where you can select access to specific repos.\n",
        "\n",
        "Once you have your token, fill in your information and then run the following cell to clone your git repo to the Colab instance."
      ],
      "metadata": {
        "id": "6zWseivb1lli"
      }
    },
    {
      "cell_type": "code",
      "execution_count": null,
      "metadata": {
        "id": "vLC51taXudfJ"
      },
      "outputs": [],
      "source": [
        "import os\n",
        "\n",
        "\n",
        "os.environ['USER'] = 'bradyz'\n",
        "os.environ['REPO'] = 'online_deep_learning'\n",
        "os.environ['TOKEN'] = 'mYseCretToKEn'\n",
        "\n",
        "# do everything in colab's \"root\" directory\n",
        "%cd /content\n",
        "!git clone https://${TOKEN}@github.com/${USER}/${REPO}.git\n",
        "\n",
        "# make sure your repo shows up\n",
        "%ls"
      ]
    },
    {
      "cell_type": "markdown",
      "source": [
        "## Code Setup\n",
        "\n",
        "Move into `homework4/` so we can continue setting up the data / code for training.\n",
        "\n",
        "This will be the main working directory and the training/grading must be run from this directory.\n"
      ],
      "metadata": {
        "id": "Gxzo13BN6FL0"
      }
    },
    {
      "cell_type": "code",
      "source": [
        "# navigate to your repo\n",
        "%cd /content/{os.environ['REPO']}\n",
        "%ls\n",
        "\n",
        "# go to a specific homework\n",
        "%cd homework4\n",
        "%ls\n"
      ],
      "metadata": {
        "id": "et3KFSXs3IHk"
      },
      "execution_count": null,
      "outputs": []
    },
    {
      "cell_type": "markdown",
      "source": [
        "## Dataset Setup\n",
        "\n",
        "Now that your code is all ready, the next step is to download the datasets.\n",
        "\n",
        "Note: it's good practice to add data directories like `*/drive_data` to your `.gitignore` so you don't accidently commit them to your repo.\n",
        "\n",
        "Since the datasets used in this class are relatively small, we can simply re-download them if the compute instance crashes/restarts."
      ],
      "metadata": {
        "id": "BnjXUhBY7x_E"
      }
    },
    {
      "cell_type": "code",
      "source": [
        "!rm -rf drive_data\n",
        "!curl -s -L https://www.cs.utexas.edu/~bzhou/dl_class/drive_data.zip -o ./drive_data.zip && unzip -qo drive_data.zip\n",
        "%ls"
      ],
      "metadata": {
        "id": "RmMw_Zoa8Ljm"
      },
      "execution_count": null,
      "outputs": []
    },
    {
      "cell_type": "markdown",
      "source": [
        "## Model Implementation + Training\n",
        "\n",
        "Now you should be all set up.\n",
        "Next, you'll need to implement\n",
        "- `homework/train_planner.py`\n",
        "- `homework/models.py`\n",
        "\n",
        "And then you're ready to train"
      ],
      "metadata": {
        "id": "QUR0D6BsJP49"
      }
    },
    {
      "cell_type": "code",
      "source": [
        "# refreshes python imports automatically when you edit the source file\n",
        "%load_ext autoreload\n",
        "%autoreload 2\n",
        "\n",
        "# make sure you're in the right directory\n",
        "%pwd\n",
        "\n",
        "from homework.train_planner import train\n",
        "\n",
        "\n",
        "# your training args don't have to look like this\n",
        "# this is just how it's structured in the solution\n",
        "for lr in [1e-2, 1e-3, 1e-4]:\n",
        "    train(\n",
        "        model_name=\"linear_planner\",\n",
        "        transform_pipeline=\"state_only\",\n",
        "        num_workers=4,\n",
        "        lr=lr,\n",
        "        batch_size=128,\n",
        "        num_epoch=40,\n",
        "    )"
      ],
      "metadata": {
        "id": "WLe2Ti0xJeIL"
      },
      "execution_count": null,
      "outputs": []
    },
    {
      "cell_type": "markdown",
      "source": [
        "## Grader\n",
        "\n",
        "Run the following cell to grade your homework.\n",
        "\n",
        "Note: if you don't set up PySuperTuxKart, the grader will not run the driving tests."
      ],
      "metadata": {
        "id": "WODRADDO02Hd"
      }
    },
    {
      "cell_type": "code",
      "source": [
        "!python3 -m grader homework -vv --disable_color"
      ],
      "metadata": {
        "id": "-ijkV65Bvpaj"
      },
      "execution_count": null,
      "outputs": []
    },
    {
      "cell_type": "markdown",
      "source": [
        "## PySuperTuxKart Setup (Optional)\n",
        "\n",
        "We will use your trained planner to drive around in SuperTuxKart!  \n",
        "SuperTuxKart is a python wrapper around a C++ game, so it requires a few more build steps.\n",
        "\n",
        "This is optional to test locally - if your planner passes the local grader's tests for prediction accuracy, it should drive just fine and you can submit to the online grader. You only need to set up PySuperTuxKart locally if you want to see your model driving around."
      ],
      "metadata": {
        "id": "ETsTM1gF1dEf"
      }
    },
    {
      "cell_type": "code",
      "source": [
        "# don't worry about the \"... is not a symbolic link\" logs\n",
        "!sudo DEBIAN_FRONTEND=noninteractive apt install -qq libnvidia-gl-535\n",
        "!pip install PySuperTuxKartData --index-url=https://www.cs.utexas.edu/~bzhou/dl_class/pystk\n",
        "!pip install PySuperTuxKart --index-url=https://www.cs.utexas.edu/~bzhou/dl_class/pystk"
      ],
      "metadata": {
        "id": "aMaRKXb9a9er"
      },
      "execution_count": null,
      "outputs": []
    },
    {
      "cell_type": "markdown",
      "source": [
        "## End to End Driving Visualization\n",
        "\n",
        "After your models are trained, you can see how they perform in game!\n",
        "\n",
        "Some of the driving might look \"jittery\", due to the simple logic of the controller (directly steer towards the predicted waypoints).\n",
        "\n",
        "You can always tweak the controller for fun, but note that we will use the original one for grading."
      ],
      "metadata": {
        "id": "jBroVMqYj_9b"
      }
    },
    {
      "cell_type": "code",
      "source": [
        "# This script will simply run your model and save the session as a video\n",
        "!python3 -m homework.supertux_utils.evaluate --model mlp_planner --track lighthouse --max-steps 100"
      ],
      "metadata": {
        "id": "0KHa6JDIT5GP"
      },
      "execution_count": null,
      "outputs": []
    },
    {
      "cell_type": "code",
      "source": [
        "# This cell displays the videos\n",
        "from IPython.display import Video\n",
        "from pathlib import Path\n",
        "\n",
        "\n",
        "video_dir = Path(\"videos\")\n",
        "\n",
        "for video_path in sorted(video_dir.glob(\"*.mp4\")):\n",
        "    print(video_path)\n",
        "    display(Video(video_path, embed=True))"
      ],
      "metadata": {
        "id": "xtHZkEP8UxQF"
      },
      "execution_count": null,
      "outputs": []
    },
    {
      "cell_type": "markdown",
      "source": [
        "## Update your changes\n"
      ],
      "metadata": {
        "id": "oiCe-RX-J6CF"
      }
    },
    {
      "cell_type": "code",
      "source": [
        "%ls\n",
        "!git status\n",
        "\n",
        "# Be careful not to \"git add *\" since there are datasets and logs\n",
        "!git add homework/*.py\n",
        "!git config --global user.email \"GITHUB_EMAIL\"\n",
        "!git config --global user.name \"GITHUB_USER\"\n",
        "!git commit -m \"update\"\n",
        "!git push origin main"
      ],
      "metadata": {
        "id": "eMF7LKEoldcx"
      },
      "execution_count": null,
      "outputs": []
    },
    {
      "cell_type": "markdown",
      "source": [
        "## Submission\n",
        "\n",
        "Run the following cell to bundle your submission (modify UTID accordingly).\n",
        "\n",
        "If you notice that your bundle is too large, you can modify the `bundle.py` script and ignore large files by adding them manually to `BLACKLIST`.\n",
        "\n",
        "After the bundler and grader run, right click and download your bundled `.zip` file from the Colab UI.\n"
      ],
      "metadata": {
        "id": "OxbPtnF55AMU"
      }
    },
    {
      "cell_type": "code",
      "source": [
        "!python3 bundle.py homework UTID\n",
        "\n",
        "# optional: run the grader with your bundled homework to double check\n",
        "!python3 -m grader UTID.zip -vv --disable_color"
      ],
      "metadata": {
        "id": "M07WA1Os4Xxh"
      },
      "execution_count": null,
      "outputs": []
    },
    {
      "cell_type": "markdown",
      "source": [
        "## Tensorboard (Optional)"
      ],
      "metadata": {
        "id": "glE1RHxE30_u"
      }
    },
    {
      "cell_type": "code",
      "source": [
        "%load_ext tensorboard\n",
        "%tensorboard --logdir logs"
      ],
      "metadata": {
        "id": "wRWuQIERv6hz"
      },
      "execution_count": null,
      "outputs": []
    },
    {
      "cell_type": "code",
      "source": [
        "!sudo DEBIAN_FRONTEND=noninteractive apt install -qq libnvidia-gl-535\n",
        "!pip install PySuperTuxKartData --index-url=https://www.cs.utexas.edu/~bzhou/dl_class/pystk -vv\n",
        "!pip install PySuperTuxKart --index-url=https://www.cs.utexas.edu/~bzhou/dl_class/pystk -vv"
      ],
      "metadata": {
        "colab": {
          "base_uri": "https://localhost:8080/"
        },
        "id": "usjJKjTUQQqT",
        "outputId": "8b1da072-1a94-4429-d84f-b0443c2dda7e"
      },
      "execution_count": null,
      "outputs": [
        {
          "output_type": "stream",
          "name": "stdout",
          "text": [
            "libnvidia-gl-535 is already the newest version (535.230.02-0ubuntu1).\n",
            "0 upgraded, 0 newly installed, 0 to remove and 29 not upgraded.\n",
            "Using pip 24.1.2 from /usr/local/lib/python3.11/dist-packages/pip (python 3.11)\n",
            "Non-user install because site-packages writeable\n",
            "Created temporary directory: /tmp/pip-build-tracker-yc9ysclx\n",
            "Initialized build tracking at /tmp/pip-build-tracker-yc9ysclx\n",
            "Created build tracker: /tmp/pip-build-tracker-yc9ysclx\n",
            "Entered build tracker: /tmp/pip-build-tracker-yc9ysclx\n",
            "Created temporary directory: /tmp/pip-install-le6cxfk7\n",
            "Created temporary directory: /tmp/pip-ephem-wheel-cache-1bs9gj98\n",
            "Looking in indexes: https://www.cs.utexas.edu/~bzhou/dl_class/pystk\n",
            "1 location(s) to search for versions of pysupertuxkartdata:\n",
            "* https://www.cs.utexas.edu/~bzhou/dl_class/pystk/pysupertuxkartdata/\n",
            "Fetching project page and analyzing links: https://www.cs.utexas.edu/~bzhou/dl_class/pystk/pysupertuxkartdata/\n",
            "Getting page https://www.cs.utexas.edu/~bzhou/dl_class/pystk/pysupertuxkartdata/\n",
            "Found index url https://www.cs.utexas.edu/~bzhou/dl_class/pystk/\n",
            "Looking up \"https://www.cs.utexas.edu/~bzhou/dl_class/pystk/pysupertuxkartdata/\" in the cache\n",
            "Request header has \"max_age\" as 0, cache bypassed\n",
            "No cache entry available\n",
            "Starting new HTTPS connection (1): www.cs.utexas.edu:443\n",
            "https://www.cs.utexas.edu:443 \"GET /~bzhou/dl_class/pystk/pysupertuxkartdata/ HTTP/1.1\" 200 221\n",
            "Updating cache with response from \"https://www.cs.utexas.edu/~bzhou/dl_class/pystk/pysupertuxkartdata/\"\n",
            "etag object cached for 1209600 seconds\n",
            "Caching due to etag\n",
            "Fetched page https://www.cs.utexas.edu/~bzhou/dl_class/pystk/pysupertuxkartdata/ as text/html\n",
            "  Skipping link: none of the wheel's tags (cp310-cp310-manylinux2014_x86_64, cp310-cp310-manylinux_2_17_x86_64) are compatible (run pip debug --verbose to show compatible tags): https://www.cs.utexas.edu/~bzhou/dl_class/pystk/pysupertuxkartdata/PySuperTuxKartData-1.0.0-cp310-cp310-manylinux_2_17_x86_64.manylinux2014_x86_64.whl (from https://www.cs.utexas.edu/~bzhou/dl_class/pystk/pysupertuxkartdata/)\n",
            "  Found link https://www.cs.utexas.edu/~bzhou/dl_class/pystk/pysupertuxkartdata/PySuperTuxKartData-1.0.1-cp311-cp311-manylinux_2_17_x86_64.manylinux2014_x86_64.whl (from https://www.cs.utexas.edu/~bzhou/dl_class/pystk/pysupertuxkartdata/), version: 1.0.1\n",
            "Skipping link: not a file: https://www.cs.utexas.edu/~bzhou/dl_class/pystk/pysupertuxkartdata/\n",
            "Given no hashes to check 1 links for project 'pysupertuxkartdata': discarding no candidates\n",
            "Collecting PySuperTuxKartData\n",
            "  Created temporary directory: /tmp/pip-unpack-3auvgfj0\n",
            "  Found index url https://www.cs.utexas.edu/~bzhou/dl_class/pystk/\n",
            "  Looking up \"https://www.cs.utexas.edu/~bzhou/dl_class/pystk/pysupertuxkartdata/PySuperTuxKartData-1.0.1-cp311-cp311-manylinux_2_17_x86_64.manylinux2014_x86_64.whl\" in the cache\n",
            "  No cache entry available\n",
            "  No cache entry available\n",
            "  https://www.cs.utexas.edu:443 \"GET /~bzhou/dl_class/pystk/pysupertuxkartdata/PySuperTuxKartData-1.0.1-cp311-cp311-manylinux_2_17_x86_64.manylinux2014_x86_64.whl HTTP/1.1\" 200 620698651\n",
            "  Downloading https://www.cs.utexas.edu/~bzhou/dl_class/pystk/pysupertuxkartdata/PySuperTuxKartData-1.0.1-cp311-cp311-manylinux_2_17_x86_64.manylinux2014_x86_64.whl (620.7 MB)\n",
            "\u001b[2K     \u001b[91m━━━━━━━━━━━━━━━━━━━━━━━━━━━━━━━━━━━━━━━\u001b[0m\u001b[91m╸\u001b[0m \u001b[32m620.6/620.7 MB\u001b[0m \u001b[31m69.2 MB/s\u001b[0m eta \u001b[36m0:00:01\u001b[0m  Updating cache with response from \"https://www.cs.utexas.edu/~bzhou/dl_class/pystk/pysupertuxkartdata/PySuperTuxKartData-1.0.1-cp311-cp311-manylinux_2_17_x86_64.manylinux2014_x86_64.whl\"\n",
            "  etag object cached for 1209600 seconds\n",
            "  Caching due to etag\n",
            "\u001b[2K     \u001b[90m━━━━━━━━━━━━━━━━━━━━━━━━━━━━━━━━━━━━━━━━\u001b[0m \u001b[32m620.7/620.7 MB\u001b[0m \u001b[31m2.2 MB/s\u001b[0m eta \u001b[36m0:00:00\u001b[0m\n",
            "\u001b[?25hRequirement already satisfied: requests in /usr/local/lib/python3.11/dist-packages (from PySuperTuxKartData) (2.32.3)\n",
            "Requirement already satisfied: charset-normalizer<4,>=2 in /usr/local/lib/python3.11/dist-packages (from requests->PySuperTuxKartData) (3.4.1)\n",
            "Requirement already satisfied: idna<4,>=2.5 in /usr/local/lib/python3.11/dist-packages (from requests->PySuperTuxKartData) (3.10)\n",
            "Requirement already satisfied: urllib3<3,>=1.21.1 in /usr/local/lib/python3.11/dist-packages (from requests->PySuperTuxKartData) (2.3.0)\n",
            "Requirement already satisfied: certifi>=2017.4.17 in /usr/local/lib/python3.11/dist-packages (from requests->PySuperTuxKartData) (2025.1.31)\n",
            "Created temporary directory: /tmp/pip-unpack-lslk59qh\n",
            "Installing collected packages: PySuperTuxKartData\n",
            "\n",
            "Successfully installed PySuperTuxKartData-1.0.1\n",
            "Removed build tracker: '/tmp/pip-build-tracker-yc9ysclx'\n"
          ]
        }
      ]
    },
    {
      "cell_type": "code",
      "source": [
        "!python -v"
      ],
      "metadata": {
        "colab": {
          "base_uri": "https://localhost:8080/"
        },
        "id": "MHCjN-1hRsxt",
        "outputId": "9025aad1-4ac3-415d-ba98-271908803c74"
      },
      "execution_count": null,
      "outputs": [
        {
          "output_type": "stream",
          "name": "stdout",
          "text": [
            "import _frozen_importlib # frozen\n",
            "import _imp # builtin\n",
            "import '_thread' # <class '_frozen_importlib.BuiltinImporter'>\n",
            "import '_warnings' # <class '_frozen_importlib.BuiltinImporter'>\n",
            "import '_weakref' # <class '_frozen_importlib.BuiltinImporter'>\n",
            "import '_io' # <class '_frozen_importlib.BuiltinImporter'>\n",
            "import 'marshal' # <class '_frozen_importlib.BuiltinImporter'>\n",
            "import 'posix' # <class '_frozen_importlib.BuiltinImporter'>\n",
            "import '_frozen_importlib_external' # <class '_frozen_importlib.FrozenImporter'>\n",
            "# installing zipimport hook\n",
            "import 'time' # <class '_frozen_importlib.BuiltinImporter'>\n",
            "import 'zipimport' # <class '_frozen_importlib.FrozenImporter'>\n",
            "# installed zipimport hook\n",
            "# /usr/lib/python3.11/encodings/__pycache__/__init__.cpython-311.pyc matches /usr/lib/python3.11/encodings/__init__.py\n",
            "# code object from '/usr/lib/python3.11/encodings/__pycache__/__init__.cpython-311.pyc'\n",
            "import '_codecs' # <class '_frozen_importlib.BuiltinImporter'>\n",
            "import 'codecs' # <class '_frozen_importlib.FrozenImporter'>\n",
            "# /usr/lib/python3.11/encodings/__pycache__/aliases.cpython-311.pyc matches /usr/lib/python3.11/encodings/aliases.py\n",
            "# code object from '/usr/lib/python3.11/encodings/__pycache__/aliases.cpython-311.pyc'\n",
            "import 'encodings.aliases' # <_frozen_importlib_external.SourceFileLoader object at 0x7fa892ecec90>\n",
            "import 'encodings' # <_frozen_importlib_external.SourceFileLoader object at 0x7fa892ec30d0>\n",
            "# /usr/lib/python3.11/encodings/__pycache__/utf_8.cpython-311.pyc matches /usr/lib/python3.11/encodings/utf_8.py\n",
            "# code object from '/usr/lib/python3.11/encodings/__pycache__/utf_8.cpython-311.pyc'\n",
            "import 'encodings.utf_8' # <_frozen_importlib_external.SourceFileLoader object at 0x7fa892ec38d0>\n",
            "import '_signal' # <class '_frozen_importlib.BuiltinImporter'>\n",
            "import '_abc' # <class '_frozen_importlib.BuiltinImporter'>\n",
            "import 'abc' # <class '_frozen_importlib.FrozenImporter'>\n",
            "import 'io' # <class '_frozen_importlib.FrozenImporter'>\n",
            "# /usr/lib/python3.11/__pycache__/warnings.cpython-311.pyc matches /usr/lib/python3.11/warnings.py\n",
            "# code object from '/usr/lib/python3.11/__pycache__/warnings.cpython-311.pyc'\n",
            "# /usr/lib/python3.11/re/__pycache__/__init__.cpython-311.pyc matches /usr/lib/python3.11/re/__init__.py\n",
            "# code object from '/usr/lib/python3.11/re/__pycache__/__init__.cpython-311.pyc'\n",
            "# /usr/lib/python3.11/__pycache__/enum.cpython-311.pyc matches /usr/lib/python3.11/enum.py\n",
            "# code object from '/usr/lib/python3.11/__pycache__/enum.cpython-311.pyc'\n",
            "# /usr/lib/python3.11/__pycache__/types.cpython-311.pyc matches /usr/lib/python3.11/types.py\n",
            "# code object from '/usr/lib/python3.11/__pycache__/types.cpython-311.pyc'\n",
            "import 'types' # <_frozen_importlib_external.SourceFileLoader object at 0x7fa892c90c10>\n",
            "# /usr/lib/python3.11/__pycache__/operator.cpython-311.pyc matches /usr/lib/python3.11/operator.py\n",
            "# code object from '/usr/lib/python3.11/__pycache__/operator.cpython-311.pyc'\n",
            "import '_operator' # <class '_frozen_importlib.BuiltinImporter'>\n",
            "import 'operator' # <_frozen_importlib_external.SourceFileLoader object at 0x7fa892ca5550>\n",
            "# /usr/lib/python3.11/__pycache__/functools.cpython-311.pyc matches /usr/lib/python3.11/functools.py\n",
            "# code object from '/usr/lib/python3.11/__pycache__/functools.cpython-311.pyc'\n",
            "# /usr/lib/python3.11/collections/__pycache__/__init__.cpython-311.pyc matches /usr/lib/python3.11/collections/__init__.py\n",
            "# code object from '/usr/lib/python3.11/collections/__pycache__/__init__.cpython-311.pyc'\n",
            "import '_collections_abc' # <class '_frozen_importlib.FrozenImporter'>\n",
            "import 'itertools' # <class '_frozen_importlib.BuiltinImporter'>\n",
            "# /usr/lib/python3.11/__pycache__/keyword.cpython-311.pyc matches /usr/lib/python3.11/keyword.py\n",
            "# code object from '/usr/lib/python3.11/__pycache__/keyword.cpython-311.pyc'\n",
            "import 'keyword' # <_frozen_importlib_external.SourceFileLoader object at 0x7fa892cf3490>\n",
            "# /usr/lib/python3.11/__pycache__/reprlib.cpython-311.pyc matches /usr/lib/python3.11/reprlib.py\n",
            "# code object from '/usr/lib/python3.11/__pycache__/reprlib.cpython-311.pyc'\n",
            "import 'reprlib' # <_frozen_importlib_external.SourceFileLoader object at 0x7fa892cf3f50>\n",
            "import '_collections' # <class '_frozen_importlib.BuiltinImporter'>\n",
            "import 'collections' # <_frozen_importlib_external.SourceFileLoader object at 0x7fa892cc5390>\n",
            "import '_functools' # <class '_frozen_importlib.BuiltinImporter'>\n",
            "import 'functools' # <_frozen_importlib_external.SourceFileLoader object at 0x7fa892cacd10>\n",
            "import 'enum' # <_frozen_importlib_external.SourceFileLoader object at 0x7fa892c90290>\n",
            "# /usr/lib/python3.11/re/__pycache__/_compiler.cpython-311.pyc matches /usr/lib/python3.11/re/_compiler.py\n",
            "# code object from '/usr/lib/python3.11/re/__pycache__/_compiler.cpython-311.pyc'\n",
            "import '_sre' # <class '_frozen_importlib.BuiltinImporter'>\n",
            "# /usr/lib/python3.11/re/__pycache__/_parser.cpython-311.pyc matches /usr/lib/python3.11/re/_parser.py\n",
            "# code object from '/usr/lib/python3.11/re/__pycache__/_parser.cpython-311.pyc'\n",
            "# /usr/lib/python3.11/re/__pycache__/_constants.cpython-311.pyc matches /usr/lib/python3.11/re/_constants.py\n",
            "# code object from '/usr/lib/python3.11/re/__pycache__/_constants.cpython-311.pyc'\n",
            "import 're._constants' # <_frozen_importlib_external.SourceFileLoader object at 0x7fa892d274d0>\n",
            "import 're._parser' # <_frozen_importlib_external.SourceFileLoader object at 0x7fa892d24d10>\n",
            "# /usr/lib/python3.11/re/__pycache__/_casefix.cpython-311.pyc matches /usr/lib/python3.11/re/_casefix.py\n",
            "# code object from '/usr/lib/python3.11/re/__pycache__/_casefix.cpython-311.pyc'\n",
            "import 're._casefix' # <_frozen_importlib_external.SourceFileLoader object at 0x7fa892d328d0>\n",
            "import 're._compiler' # <_frozen_importlib_external.SourceFileLoader object at 0x7fa892d11d90>\n",
            "# /usr/lib/python3.11/__pycache__/copyreg.cpython-311.pyc matches /usr/lib/python3.11/copyreg.py\n",
            "# code object from '/usr/lib/python3.11/__pycache__/copyreg.cpython-311.pyc'\n",
            "import 'copyreg' # <_frozen_importlib_external.SourceFileLoader object at 0x7fa892d333d0>\n",
            "import 're' # <_frozen_importlib_external.SourceFileLoader object at 0x7fa892ee6890>\n",
            "import 'warnings' # <_frozen_importlib_external.SourceFileLoader object at 0x7fa892ee43d0>\n",
            "import '_stat' # <class '_frozen_importlib.BuiltinImporter'>\n",
            "import 'stat' # <class '_frozen_importlib.FrozenImporter'>\n",
            "import 'genericpath' # <class '_frozen_importlib.FrozenImporter'>\n",
            "import 'posixpath' # <class '_frozen_importlib.FrozenImporter'>\n",
            "import 'os' # <class '_frozen_importlib.FrozenImporter'>\n",
            "import '_sitebuiltins' # <class '_frozen_importlib.FrozenImporter'>\n",
            "Processing user site-packages\n",
            "Processing global site-packages\n",
            "Adding directory: '/usr/local/lib/python3.11/dist-packages'\n",
            "Processing .pth file: '/usr/local/lib/python3.11/dist-packages/_numba_cuda_redirector.pth'\n",
            "# /usr/local/lib/python3.11/dist-packages/__pycache__/_numba_cuda_redirector.cpython-311.pyc matches /usr/local/lib/python3.11/dist-packages/_numba_cuda_redirector.py\n",
            "# code object from '/usr/local/lib/python3.11/dist-packages/__pycache__/_numba_cuda_redirector.cpython-311.pyc'\n",
            "# /usr/lib/python3.11/importlib/__pycache__/__init__.cpython-311.pyc matches /usr/lib/python3.11/importlib/__init__.py\n",
            "# code object from '/usr/lib/python3.11/importlib/__pycache__/__init__.cpython-311.pyc'\n",
            "import 'importlib' # <_frozen_importlib_external.SourceFileLoader object at 0x7fa892d47010>\n",
            "# /usr/lib/python3.11/importlib/__pycache__/abc.cpython-311.pyc matches /usr/lib/python3.11/importlib/abc.py\n",
            "# code object from '/usr/lib/python3.11/importlib/__pycache__/abc.cpython-311.pyc'\n",
            "import 'importlib.machinery' # <class '_frozen_importlib.FrozenImporter'>\n",
            "# /usr/lib/python3.11/importlib/__pycache__/_abc.cpython-311.pyc matches /usr/lib/python3.11/importlib/_abc.py\n",
            "# code object from '/usr/lib/python3.11/importlib/__pycache__/_abc.cpython-311.pyc'\n",
            "import 'importlib._abc' # <_frozen_importlib_external.SourceFileLoader object at 0x7fa892d5c9d0>\n",
            "# /usr/lib/python3.11/importlib/resources/__pycache__/__init__.cpython-311.pyc matches /usr/lib/python3.11/importlib/resources/__init__.py\n",
            "# code object from '/usr/lib/python3.11/importlib/resources/__pycache__/__init__.cpython-311.pyc'\n",
            "# /usr/lib/python3.11/importlib/resources/__pycache__/_common.cpython-311.pyc matches /usr/lib/python3.11/importlib/resources/_common.py\n",
            "# code object from '/usr/lib/python3.11/importlib/resources/__pycache__/_common.cpython-311.pyc'\n",
            "# /usr/lib/python3.11/__pycache__/pathlib.cpython-311.pyc matches /usr/lib/python3.11/pathlib.py\n",
            "# code object from '/usr/lib/python3.11/__pycache__/pathlib.cpython-311.pyc'\n",
            "# /usr/lib/python3.11/__pycache__/fnmatch.cpython-311.pyc matches /usr/lib/python3.11/fnmatch.py\n",
            "# code object from '/usr/lib/python3.11/__pycache__/fnmatch.cpython-311.pyc'\n",
            "import 'fnmatch' # <_frozen_importlib_external.SourceFileLoader object at 0x7fa892d69650>\n",
            "import 'ntpath' # <class '_frozen_importlib.FrozenImporter'>\n",
            "import 'errno' # <class '_frozen_importlib.BuiltinImporter'>\n",
            "# /usr/lib/python3.11/urllib/__pycache__/__init__.cpython-311.pyc matches /usr/lib/python3.11/urllib/__init__.py\n",
            "# code object from '/usr/lib/python3.11/urllib/__pycache__/__init__.cpython-311.pyc'\n",
            "import 'urllib' # <_frozen_importlib_external.SourceFileLoader object at 0x7fa892b6eb10>\n",
            "# /usr/lib/python3.11/urllib/__pycache__/parse.cpython-311.pyc matches /usr/lib/python3.11/urllib/parse.py\n",
            "# code object from '/usr/lib/python3.11/urllib/__pycache__/parse.cpython-311.pyc'\n",
            "# /usr/lib/python3.11/__pycache__/ipaddress.cpython-311.pyc matches /usr/lib/python3.11/ipaddress.py\n",
            "# code object from '/usr/lib/python3.11/__pycache__/ipaddress.cpython-311.pyc'\n",
            "import 'ipaddress' # <_frozen_importlib_external.SourceFileLoader object at 0x7fa892b76290>\n",
            "import 'urllib.parse' # <_frozen_importlib_external.SourceFileLoader object at 0x7fa892b6e8d0>\n",
            "import 'pathlib' # <_frozen_importlib_external.SourceFileLoader object at 0x7fa892d5e050>\n",
            "# /usr/lib/python3.11/__pycache__/tempfile.cpython-311.pyc matches /usr/lib/python3.11/tempfile.py\n",
            "# code object from '/usr/lib/python3.11/__pycache__/tempfile.cpython-311.pyc'\n",
            "# /usr/lib/python3.11/__pycache__/shutil.cpython-311.pyc matches /usr/lib/python3.11/shutil.py\n",
            "# code object from '/usr/lib/python3.11/__pycache__/shutil.cpython-311.pyc'\n",
            "import 'zlib' # <class '_frozen_importlib.BuiltinImporter'>\n",
            "# /usr/lib/python3.11/__pycache__/bz2.cpython-311.pyc matches /usr/lib/python3.11/bz2.py\n",
            "# code object from '/usr/lib/python3.11/__pycache__/bz2.cpython-311.pyc'\n",
            "# /usr/lib/python3.11/__pycache__/_compression.cpython-311.pyc matches /usr/lib/python3.11/_compression.py\n",
            "# code object from '/usr/lib/python3.11/__pycache__/_compression.cpython-311.pyc'\n",
            "import '_compression' # <_frozen_importlib_external.SourceFileLoader object at 0x7fa892bf42d0>\n",
            "# extension module '_bz2' loaded from '/usr/lib/python3.11/lib-dynload/_bz2.cpython-311-x86_64-linux-gnu.so'\n",
            "# extension module '_bz2' executed from '/usr/lib/python3.11/lib-dynload/_bz2.cpython-311-x86_64-linux-gnu.so'\n",
            "import '_bz2' # <_frozen_importlib_external.ExtensionFileLoader object at 0x7fa892bf4290>\n",
            "import 'bz2' # <_frozen_importlib_external.SourceFileLoader object at 0x7fa892bdf250>\n",
            "# /usr/lib/python3.11/__pycache__/lzma.cpython-311.pyc matches /usr/lib/python3.11/lzma.py\n",
            "# code object from '/usr/lib/python3.11/__pycache__/lzma.cpython-311.pyc'\n",
            "# extension module '_lzma' loaded from '/usr/lib/python3.11/lib-dynload/_lzma.cpython-311-x86_64-linux-gnu.so'\n",
            "# extension module '_lzma' executed from '/usr/lib/python3.11/lib-dynload/_lzma.cpython-311-x86_64-linux-gnu.so'\n",
            "import '_lzma' # <_frozen_importlib_external.ExtensionFileLoader object at 0x7fa892bf69d0>\n",
            "import 'lzma' # <_frozen_importlib_external.SourceFileLoader object at 0x7fa892bf58d0>\n",
            "import 'shutil' # <_frozen_importlib_external.SourceFileLoader object at 0x7fa892bd0c90>\n",
            "# /usr/lib/python3.11/__pycache__/random.cpython-311.pyc matches /usr/lib/python3.11/random.py\n",
            "# code object from '/usr/lib/python3.11/__pycache__/random.cpython-311.pyc'\n",
            "import 'math' # <class '_frozen_importlib.BuiltinImporter'>\n",
            "# /usr/lib/python3.11/__pycache__/bisect.cpython-311.pyc matches /usr/lib/python3.11/bisect.py\n",
            "# code object from '/usr/lib/python3.11/__pycache__/bisect.cpython-311.pyc'\n",
            "import '_bisect' # <class '_frozen_importlib.BuiltinImporter'>\n",
            "import 'bisect' # <_frozen_importlib_external.SourceFileLoader object at 0x7fa892c06650>\n",
            "import '_random' # <class '_frozen_importlib.BuiltinImporter'>\n",
            "import '_sha512' # <class '_frozen_importlib.BuiltinImporter'>\n",
            "import 'random' # <_frozen_importlib_external.SourceFileLoader object at 0x7fa892bd0c10>\n",
            "# /usr/lib/python3.11/__pycache__/weakref.cpython-311.pyc matches /usr/lib/python3.11/weakref.py\n",
            "# code object from '/usr/lib/python3.11/__pycache__/weakref.cpython-311.pyc'\n",
            "# /usr/lib/python3.11/__pycache__/_weakrefset.cpython-311.pyc matches /usr/lib/python3.11/_weakrefset.py\n",
            "# code object from '/usr/lib/python3.11/__pycache__/_weakrefset.cpython-311.pyc'\n",
            "import '_weakrefset' # <_frozen_importlib_external.SourceFileLoader object at 0x7fa892c15d90>\n",
            "import 'weakref' # <_frozen_importlib_external.SourceFileLoader object at 0x7fa892c14610>\n",
            "import 'tempfile' # <_frozen_importlib_external.SourceFileLoader object at 0x7fa892d5e010>\n",
            "# /usr/lib/python3.11/__pycache__/contextlib.cpython-311.pyc matches /usr/lib/python3.11/contextlib.py\n",
            "# code object from '/usr/lib/python3.11/__pycache__/contextlib.cpython-311.pyc'\n",
            "import 'contextlib' # <_frozen_importlib_external.SourceFileLoader object at 0x7fa892c34e90>\n",
            "# /usr/lib/python3.11/__pycache__/typing.cpython-311.pyc matches /usr/lib/python3.11/typing.py\n",
            "# code object from '/usr/lib/python3.11/__pycache__/typing.cpython-311.pyc'\n",
            "# /usr/lib/python3.11/collections/__pycache__/abc.cpython-311.pyc matches /usr/lib/python3.11/collections/abc.py\n",
            "# code object from '/usr/lib/python3.11/collections/__pycache__/abc.cpython-311.pyc'\n",
            "import 'collections.abc' # <_frozen_importlib_external.SourceFileLoader object at 0x7fa8929bc350>\n",
            "# extension module '_typing' loaded from '/usr/lib/python3.11/lib-dynload/_typing.cpython-311-x86_64-linux-gnu.so'\n",
            "# extension module '_typing' executed from '/usr/lib/python3.11/lib-dynload/_typing.cpython-311-x86_64-linux-gnu.so'\n",
            "import '_typing' # <_frozen_importlib_external.ExtensionFileLoader object at 0x7fa892c49490>\n",
            "import 'typing' # <_frozen_importlib_external.SourceFileLoader object at 0x7fa892c378d0>\n",
            "# /usr/lib/python3.11/importlib/resources/__pycache__/abc.cpython-311.pyc matches /usr/lib/python3.11/importlib/resources/abc.py\n",
            "# code object from '/usr/lib/python3.11/importlib/resources/__pycache__/abc.cpython-311.pyc'\n",
            "import 'importlib.resources.abc' # <_frozen_importlib_external.SourceFileLoader object at 0x7fa892c58c50>\n",
            "# /usr/lib/python3.11/importlib/resources/__pycache__/_adapters.cpython-311.pyc matches /usr/lib/python3.11/importlib/resources/_adapters.py\n",
            "# code object from '/usr/lib/python3.11/importlib/resources/__pycache__/_adapters.cpython-311.pyc'\n",
            "import 'importlib.resources._adapters' # <_frozen_importlib_external.SourceFileLoader object at 0x7fa8929e28d0>\n",
            "import 'importlib.resources._common' # <_frozen_importlib_external.SourceFileLoader object at 0x7fa892d5d850>\n",
            "# /usr/lib/python3.11/importlib/resources/__pycache__/_legacy.cpython-311.pyc matches /usr/lib/python3.11/importlib/resources/_legacy.py\n",
            "# code object from '/usr/lib/python3.11/importlib/resources/__pycache__/_legacy.cpython-311.pyc'\n",
            "import 'importlib.resources._legacy' # <_frozen_importlib_external.SourceFileLoader object at 0x7fa8929e3d50>\n",
            "import 'importlib.resources' # <_frozen_importlib_external.SourceFileLoader object at 0x7fa892d5cfd0>\n",
            "import 'importlib.abc' # <_frozen_importlib_external.SourceFileLoader object at 0x7fa892d47a10>\n",
            "import '_numba_cuda_redirector' # <_frozen_importlib_external.SourceFileLoader object at 0x7fa892d46b50>\n",
            "Processing .pth file: '/usr/local/lib/python3.11/dist-packages/_rapids_dask_dependency.pth'\n",
            "# /usr/local/lib/python3.11/dist-packages/rapids_dask_dependency/__pycache__/__init__.cpython-311.pyc matches /usr/local/lib/python3.11/dist-packages/rapids_dask_dependency/__init__.py\n",
            "# code object from '/usr/local/lib/python3.11/dist-packages/rapids_dask_dependency/__pycache__/__init__.cpython-311.pyc'\n",
            "# /usr/local/lib/python3.11/dist-packages/rapids_dask_dependency/__pycache__/dask_loader.cpython-311.pyc matches /usr/local/lib/python3.11/dist-packages/rapids_dask_dependency/dask_loader.py\n",
            "# code object from '/usr/local/lib/python3.11/dist-packages/rapids_dask_dependency/__pycache__/dask_loader.cpython-311.pyc'\n",
            "# /usr/lib/python3.11/__pycache__/threading.cpython-311.pyc matches /usr/lib/python3.11/threading.py\n",
            "# code object from '/usr/lib/python3.11/__pycache__/threading.cpython-311.pyc'\n",
            "import 'threading' # <_frozen_importlib_external.SourceFileLoader object at 0x7fa892a01ed0>\n",
            "import 'importlib.util' # <class '_frozen_importlib.FrozenImporter'>\n",
            "# /usr/local/lib/python3.11/dist-packages/rapids_dask_dependency/__pycache__/utils.cpython-311.pyc matches /usr/local/lib/python3.11/dist-packages/rapids_dask_dependency/utils.py\n",
            "# code object from '/usr/local/lib/python3.11/dist-packages/rapids_dask_dependency/__pycache__/utils.cpython-311.pyc'\n",
            "import 'rapids_dask_dependency.utils' # <_frozen_importlib_external.SourceFileLoader object at 0x7fa892a17b50>\n",
            "import 'rapids_dask_dependency.dask_loader' # <_frozen_importlib_external.SourceFileLoader object at 0x7fa892a01450>\n",
            "import 'rapids_dask_dependency' # <_frozen_importlib_external.SourceFileLoader object at 0x7fa892d5c2d0>\n",
            "Processing .pth file: '/usr/local/lib/python3.11/dist-packages/distutils-precedence.pth'\n",
            "# /usr/local/lib/python3.11/dist-packages/_distutils_hack/__pycache__/__init__.cpython-311.pyc matches /usr/local/lib/python3.11/dist-packages/_distutils_hack/__init__.py\n",
            "# code object from '/usr/local/lib/python3.11/dist-packages/_distutils_hack/__pycache__/__init__.cpython-311.pyc'\n",
            "import '_distutils_hack' # <_frozen_importlib_external.SourceFileLoader object at 0x7fa892a30150>\n",
            "Processing .pth file: '/usr/local/lib/python3.11/dist-packages/google_cloud_aiplatform-1.84.0-py3.10-nspkg.pth'\n",
            "# possible namespace for /usr/local/lib/python3.11/dist-packages/google/cloud\n",
            "Processing .pth file: '/usr/local/lib/python3.11/dist-packages/google_generativeai-0.8.4-py3.12-nspkg.pth'\n",
            "# destroy google\n",
            "Processing .pth file: '/usr/local/lib/python3.11/dist-packages/sphinxcontrib_jsmath-1.0.1-py3.7-nspkg.pth'\n",
            "# possible namespace for /usr/local/lib/python3.11/dist-packages/sphinxcontrib\n",
            "Adding directory: '/usr/lib/python3/dist-packages'\n",
            "# /usr/lib/python3.11/__pycache__/sitecustomize.cpython-311.pyc matches /usr/lib/python3.11/sitecustomize.py\n",
            "# code object from '/usr/lib/python3.11/__pycache__/sitecustomize.cpython-311.pyc'\n",
            "import 'sitecustomize' # <_frozen_importlib_external.SourceFileLoader object at 0x7fa892a31590>\n",
            "import 'site' # <class '_frozen_importlib.FrozenImporter'>\n",
            "# extension module 'readline' loaded from '/usr/lib/python3.11/lib-dynload/readline.cpython-311-x86_64-linux-gnu.so'\n",
            "# extension module 'readline' executed from '/usr/lib/python3.11/lib-dynload/readline.cpython-311-x86_64-linux-gnu.so'\n",
            "import 'readline' # <_frozen_importlib_external.ExtensionFileLoader object at 0x7fa892a30050>\n",
            "# /usr/lib/python3.11/__pycache__/rlcompleter.cpython-311.pyc matches /usr/lib/python3.11/rlcompleter.py\n",
            "# code object from '/usr/lib/python3.11/__pycache__/rlcompleter.cpython-311.pyc'\n",
            "import 'atexit' # <class '_frozen_importlib.BuiltinImporter'>\n",
            "# /usr/lib/python3.11/__pycache__/inspect.cpython-311.pyc matches /usr/lib/python3.11/inspect.py\n",
            "# code object from '/usr/lib/python3.11/__pycache__/inspect.cpython-311.pyc'\n",
            "# /usr/lib/python3.11/__pycache__/ast.cpython-311.pyc matches /usr/lib/python3.11/ast.py\n",
            "# code object from '/usr/lib/python3.11/__pycache__/ast.cpython-311.pyc'\n",
            "import '_ast' # <class '_frozen_importlib.BuiltinImporter'>\n",
            "import 'ast' # <_frozen_importlib_external.SourceFileLoader object at 0x7fa892a68350>\n",
            "# /usr/lib/python3.11/__pycache__/dis.cpython-311.pyc matches /usr/lib/python3.11/dis.py\n",
            "# code object from '/usr/lib/python3.11/__pycache__/dis.cpython-311.pyc'\n",
            "# /usr/lib/python3.11/__pycache__/opcode.cpython-311.pyc matches /usr/lib/python3.11/opcode.py\n",
            "# code object from '/usr/lib/python3.11/__pycache__/opcode.cpython-311.pyc'\n",
            "import '_opcode' # <class '_frozen_importlib.BuiltinImporter'>\n",
            "import 'opcode' # <_frozen_importlib_external.SourceFileLoader object at 0x7fa89281ab50>\n",
            "import 'dis' # <_frozen_importlib_external.SourceFileLoader object at 0x7fa892a69e90>\n",
            "# /usr/lib/python3.11/__pycache__/linecache.cpython-311.pyc matches /usr/lib/python3.11/linecache.py\n",
            "# code object from '/usr/lib/python3.11/__pycache__/linecache.cpython-311.pyc'\n",
            "# /usr/lib/python3.11/__pycache__/tokenize.cpython-311.pyc matches /usr/lib/python3.11/tokenize.py\n",
            "# code object from '/usr/lib/python3.11/__pycache__/tokenize.cpython-311.pyc'\n",
            "# /usr/lib/python3.11/__pycache__/token.cpython-311.pyc matches /usr/lib/python3.11/token.py\n",
            "# code object from '/usr/lib/python3.11/__pycache__/token.cpython-311.pyc'\n",
            "import 'token' # <_frozen_importlib_external.SourceFileLoader object at 0x7fa89283c6d0>\n",
            "import 'tokenize' # <_frozen_importlib_external.SourceFileLoader object at 0x7fa892828910>\n",
            "import 'linecache' # <_frozen_importlib_external.SourceFileLoader object at 0x7fa8928180d0>\n",
            "import 'inspect' # <_frozen_importlib_external.SourceFileLoader object at 0x7fa892a33890>\n",
            "import 'rlcompleter' # <_frozen_importlib_external.SourceFileLoader object at 0x7fa892a32e90>\n",
            "Python 3.11.11 (main, Dec  4 2024, 08:55:07) [GCC 11.4.0] on linux\n",
            "Type \"help\", \"copyright\", \"credits\" or \"license\" for more information.\n",
            ">>> \n",
            "\n",
            "KeyboardInterrupt\n",
            ">>> ^C\n"
          ]
        }
      ]
    }
  ]
}