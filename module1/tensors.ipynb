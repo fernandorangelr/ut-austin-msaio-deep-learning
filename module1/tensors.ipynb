{
 "cells": [
  {
   "cell_type": "code",
   "id": "initial_id",
   "metadata": {
    "collapsed": true,
    "ExecuteTime": {
     "end_time": "2025-02-02T16:56:12.938922Z",
     "start_time": "2025-02-02T16:56:12.937172Z"
    }
   },
   "source": "import torch",
   "outputs": [],
   "execution_count": 2
  },
  {
   "metadata": {
    "ExecuteTime": {
     "end_time": "2025-02-02T16:58:16.745722Z",
     "start_time": "2025-02-02T16:58:16.742094Z"
    }
   },
   "cell_type": "code",
   "source": [
    "a = torch.tensor([1, 2, 3], dtype=torch.float32)\n",
    "print(a)"
   ],
   "id": "436b37318f601f95",
   "outputs": [
    {
     "name": "stdout",
     "output_type": "stream",
     "text": [
      "tensor([1., 2., 3.])\n"
     ]
    }
   ],
   "execution_count": 9
  },
  {
   "metadata": {
    "ExecuteTime": {
     "end_time": "2025-02-02T16:59:41.697246Z",
     "start_time": "2025-02-02T16:59:41.693577Z"
    }
   },
   "cell_type": "code",
   "source": [
    "# We can create tensors without specifying any specific values, only the shape of the tensor\n",
    "b = torch.rand([3, 3, 3], dtype=torch.float32)\n",
    "print(b)"
   ],
   "id": "76e1212d611ef28d",
   "outputs": [
    {
     "name": "stdout",
     "output_type": "stream",
     "text": [
      "tensor([[[0.3308, 0.0468, 0.0326],\n",
      "         [0.4510, 0.9656, 0.4508],\n",
      "         [0.2949, 0.0911, 0.4987]],\n",
      "\n",
      "        [[0.5263, 0.3654, 0.1514],\n",
      "         [0.6242, 0.0836, 0.1727],\n",
      "         [0.8309, 0.5263, 0.6012]],\n",
      "\n",
      "        [[0.4400, 0.6342, 0.5904],\n",
      "         [0.1373, 0.2248, 0.8016],\n",
      "         [0.2711, 0.1327, 0.0639]]])\n"
     ]
    }
   ],
   "execution_count": 14
  },
  {
   "metadata": {
    "ExecuteTime": {
     "end_time": "2025-02-02T17:09:57.024620Z",
     "start_time": "2025-02-02T17:09:57.017901Z"
    }
   },
   "cell_type": "code",
   "source": [
    "# We can also load a tensor from an image\n",
    "from PIL import Image\n",
    "import numpy as np\n",
    "\n",
    "img = Image.open('cat.jpg')\n",
    "c = torch.as_tensor(np.array(img))\n",
    "print(c)"
   ],
   "id": "530ea848947f0e6",
   "outputs": [
    {
     "name": "stdout",
     "output_type": "stream",
     "text": [
      "tensor([[[106, 102,  99],\n",
      "         [109, 105, 102],\n",
      "         [113, 109, 106],\n",
      "         ...,\n",
      "         [ 46,  45,  41],\n",
      "         [ 45,  44,  40],\n",
      "         [ 44,  43,  39]],\n",
      "\n",
      "        [[106, 102,  99],\n",
      "         [109, 105, 102],\n",
      "         [113, 109, 106],\n",
      "         ...,\n",
      "         [ 46,  45,  41],\n",
      "         [ 45,  44,  40],\n",
      "         [ 44,  43,  39]],\n",
      "\n",
      "        [[105, 101,  98],\n",
      "         [108, 104, 101],\n",
      "         [112, 108, 105],\n",
      "         ...,\n",
      "         [ 46,  45,  41],\n",
      "         [ 45,  44,  40],\n",
      "         [ 44,  43,  39]],\n",
      "\n",
      "        ...,\n",
      "\n",
      "        [[127, 123, 120],\n",
      "         [126, 122, 119],\n",
      "         [125, 121, 118],\n",
      "         ...,\n",
      "         [ 41,  36,  33],\n",
      "         [ 40,  36,  33],\n",
      "         [ 40,  36,  33]],\n",
      "\n",
      "        [[127, 123, 120],\n",
      "         [126, 122, 119],\n",
      "         [125, 121, 118],\n",
      "         ...,\n",
      "         [ 41,  36,  33],\n",
      "         [ 40,  36,  33],\n",
      "         [ 40,  36,  33]],\n",
      "\n",
      "        [[127, 123, 120],\n",
      "         [126, 122, 119],\n",
      "         [125, 121, 118],\n",
      "         ...,\n",
      "         [ 39,  35,  32],\n",
      "         [ 40,  36,  33],\n",
      "         [ 40,  36,  33]]], dtype=torch.uint8)\n"
     ]
    }
   ],
   "execution_count": 24
  },
  {
   "metadata": {
    "ExecuteTime": {
     "end_time": "2025-02-02T17:11:37.485547Z",
     "start_time": "2025-02-02T17:11:37.480135Z"
    }
   },
   "cell_type": "code",
   "source": [
    "a = torch.arange(10)\n",
    "b = torch.ones(10)\n",
    "print(f'{a = }')\n",
    "print(f'{b = }')\n",
    "print(f'{a + b = }')\n",
    "print(f'{a - b = }')\n",
    "print(f'{a * b = }')\n",
    "print(f'{a / b = }')\n",
    "print(f'{a ** (2*b) = }')"
   ],
   "id": "50b07b861645c8f0",
   "outputs": [
    {
     "name": "stdout",
     "output_type": "stream",
     "text": [
      "a = tensor([0, 1, 2, 3, 4, 5, 6, 7, 8, 9])\n",
      "b = tensor([1., 1., 1., 1., 1., 1., 1., 1., 1., 1.])\n",
      "a + b = tensor([ 1.,  2.,  3.,  4.,  5.,  6.,  7.,  8.,  9., 10.])\n",
      "a - b = tensor([-1.,  0.,  1.,  2.,  3.,  4.,  5.,  6.,  7.,  8.])\n",
      "a * b = tensor([0., 1., 2., 3., 4., 5., 6., 7., 8., 9.])\n",
      "a / b = tensor([0., 1., 2., 3., 4., 5., 6., 7., 8., 9.])\n",
      "a ** (2*b) = tensor([ 0.,  1.,  4.,  9., 16., 25., 36., 49., 64., 81.])\n"
     ]
    }
   ],
   "execution_count": 29
  },
  {
   "metadata": {},
   "cell_type": "markdown",
   "source": "We must always verify that tensors have the same shape (unless we are broadcasting)",
   "id": "f85405902751b01"
  },
  {
   "metadata": {
    "ExecuteTime": {
     "end_time": "2025-02-02T17:13:48.338962Z",
     "start_time": "2025-02-02T17:13:43.465083Z"
    }
   },
   "cell_type": "code",
   "source": [
    "a = torch.rand(500_000_000)\n",
    "b = torch.rand(500_000_000)\n",
    "c = a + b"
   ],
   "id": "2e915fcd7986d9b6",
   "outputs": [],
   "execution_count": 31
  },
  {
   "metadata": {
    "ExecuteTime": {
     "end_time": "2025-02-02T17:14:09.747058Z",
     "start_time": "2025-02-02T17:14:07.201498Z"
    }
   },
   "cell_type": "code",
   "source": [
    "# We can add two big tensors and time it\n",
    "%timeit c = a + b"
   ],
   "id": "2ac74f07ece5cb27",
   "outputs": [
    {
     "name": "stdout",
     "output_type": "stream",
     "text": [
      "The slowest run took 6.06 times longer than the fastest. This could mean that an intermediate result is being cached.\n",
      "135 ms ± 121 ms per loop (mean ± std. dev. of 7 runs, 1 loop each)\n"
     ]
    }
   ],
   "execution_count": 33
  },
  {
   "metadata": {
    "ExecuteTime": {
     "end_time": "2025-02-02T17:15:14.864590Z",
     "start_time": "2025-02-02T17:15:14.830081Z"
    }
   },
   "cell_type": "code",
   "source": [
    "# We can offload computation to a GPU\n",
    "# TODO: Enable CUDA\n",
    "a_gpu = a.to('cuda')\n",
    "b_gpu = b.to('cuda')\n",
    "%timeit c_gpu = a_gpu + b_gpu"
   ],
   "id": "719b871bfa8fb1e8",
   "outputs": [
    {
     "ename": "AssertionError",
     "evalue": "Torch not compiled with CUDA enabled",
     "output_type": "error",
     "traceback": [
      "\u001B[0;31m---------------------------------------------------------------------------\u001B[0m",
      "\u001B[0;31mAssertionError\u001B[0m                            Traceback (most recent call last)",
      "Cell \u001B[0;32mIn[37], line 3\u001B[0m\n\u001B[1;32m      1\u001B[0m \u001B[38;5;66;03m# We can offload computation to a GPU\u001B[39;00m\n\u001B[1;32m      2\u001B[0m \u001B[38;5;66;03m# TODO: Enable CUDA\u001B[39;00m\n\u001B[0;32m----> 3\u001B[0m a_gpu \u001B[38;5;241m=\u001B[39m a\u001B[38;5;241m.\u001B[39mto(\u001B[38;5;124m'\u001B[39m\u001B[38;5;124mcuda\u001B[39m\u001B[38;5;124m'\u001B[39m)\n\u001B[1;32m      4\u001B[0m b_gpu \u001B[38;5;241m=\u001B[39m b\u001B[38;5;241m.\u001B[39mto(\u001B[38;5;124m'\u001B[39m\u001B[38;5;124mcuda\u001B[39m\u001B[38;5;124m'\u001B[39m)\n\u001B[1;32m      5\u001B[0m get_ipython()\u001B[38;5;241m.\u001B[39mrun_line_magic(\u001B[38;5;124m'\u001B[39m\u001B[38;5;124mtimeit\u001B[39m\u001B[38;5;124m'\u001B[39m, \u001B[38;5;124m'\u001B[39m\u001B[38;5;124mc_gpu = a_gpu + b_gpu\u001B[39m\u001B[38;5;124m'\u001B[39m)\n",
      "File \u001B[0;32m/opt/miniconda3/envs/deeplearning/lib/python3.11/site-packages/torch/cuda/__init__.py:310\u001B[0m, in \u001B[0;36m_lazy_init\u001B[0;34m()\u001B[0m\n\u001B[1;32m    305\u001B[0m     \u001B[38;5;28;01mraise\u001B[39;00m \u001B[38;5;167;01mRuntimeError\u001B[39;00m(\n\u001B[1;32m    306\u001B[0m         \u001B[38;5;124m\"\u001B[39m\u001B[38;5;124mCannot re-initialize CUDA in forked subprocess. To use CUDA with \u001B[39m\u001B[38;5;124m\"\u001B[39m\n\u001B[1;32m    307\u001B[0m         \u001B[38;5;124m\"\u001B[39m\u001B[38;5;124mmultiprocessing, you must use the \u001B[39m\u001B[38;5;124m'\u001B[39m\u001B[38;5;124mspawn\u001B[39m\u001B[38;5;124m'\u001B[39m\u001B[38;5;124m start method\u001B[39m\u001B[38;5;124m\"\u001B[39m\n\u001B[1;32m    308\u001B[0m     )\n\u001B[1;32m    309\u001B[0m \u001B[38;5;28;01mif\u001B[39;00m \u001B[38;5;129;01mnot\u001B[39;00m \u001B[38;5;28mhasattr\u001B[39m(torch\u001B[38;5;241m.\u001B[39m_C, \u001B[38;5;124m\"\u001B[39m\u001B[38;5;124m_cuda_getDeviceCount\u001B[39m\u001B[38;5;124m\"\u001B[39m):\n\u001B[0;32m--> 310\u001B[0m     \u001B[38;5;28;01mraise\u001B[39;00m \u001B[38;5;167;01mAssertionError\u001B[39;00m(\u001B[38;5;124m\"\u001B[39m\u001B[38;5;124mTorch not compiled with CUDA enabled\u001B[39m\u001B[38;5;124m\"\u001B[39m)\n\u001B[1;32m    311\u001B[0m \u001B[38;5;28;01mif\u001B[39;00m _cudart \u001B[38;5;129;01mis\u001B[39;00m \u001B[38;5;28;01mNone\u001B[39;00m:\n\u001B[1;32m    312\u001B[0m     \u001B[38;5;28;01mraise\u001B[39;00m \u001B[38;5;167;01mAssertionError\u001B[39;00m(\n\u001B[1;32m    313\u001B[0m         \u001B[38;5;124m\"\u001B[39m\u001B[38;5;124mlibcudart functions unavailable. It looks like you have a broken build?\u001B[39m\u001B[38;5;124m\"\u001B[39m\n\u001B[1;32m    314\u001B[0m     )\n",
      "\u001B[0;31mAssertionError\u001B[0m: Torch not compiled with CUDA enabled"
     ]
    }
   ],
   "execution_count": 37
  },
  {
   "metadata": {
    "ExecuteTime": {
     "end_time": "2025-02-02T17:16:54.710175Z",
     "start_time": "2025-02-02T17:16:54.706571Z"
    }
   },
   "cell_type": "code",
   "source": [
    "# We can change the shape of a tensor\n",
    "a = torch.arange(6)\n",
    "\n",
    "print(a.view(2, 3))  # This will not copy the underlying data\n",
    "print(a.reshape(2, 3))  # This will copy the underlying data"
   ],
   "id": "ea5c0617d08db2f0",
   "outputs": [
    {
     "name": "stdout",
     "output_type": "stream",
     "text": [
      "tensor([[0, 1, 2],\n",
      "        [3, 4, 5]])\n",
      "tensor([[0, 1, 2],\n",
      "        [3, 4, 5]])\n"
     ]
    }
   ],
   "execution_count": 41
  },
  {
   "metadata": {
    "ExecuteTime": {
     "end_time": "2025-02-02T17:17:28.884136Z",
     "start_time": "2025-02-02T17:17:28.879908Z"
    }
   },
   "cell_type": "code",
   "source": [
    "# We can transpose a matrix\n",
    "a = torch.rand(2, 3)\n",
    "print(a)\n",
    "print(a.mT)"
   ],
   "id": "6dbb89f3b4e535ad",
   "outputs": [
    {
     "name": "stdout",
     "output_type": "stream",
     "text": [
      "tensor([[0.9130, 0.6760, 0.2907],\n",
      "        [0.1506, 0.4060, 0.7699]])\n",
      "tensor([[0.9130, 0.1506],\n",
      "        [0.6760, 0.4060],\n",
      "        [0.2907, 0.7699]])\n"
     ]
    }
   ],
   "execution_count": 43
  },
  {
   "metadata": {
    "ExecuteTime": {
     "end_time": "2025-02-02T17:19:35.589845Z",
     "start_time": "2025-02-02T17:19:35.586994Z"
    }
   },
   "cell_type": "code",
   "source": [
    "# We can permute dimensions\n",
    "a = torch.rand(2, 3, 4)\n",
    "print(a.permute(1, 2, 0).shape)"
   ],
   "id": "74445f06a9647639",
   "outputs": [
    {
     "name": "stdout",
     "output_type": "stream",
     "text": [
      "torch.Size([3, 4, 2])\n"
     ]
    }
   ],
   "execution_count": 45
  },
  {
   "metadata": {
    "ExecuteTime": {
     "end_time": "2025-02-02T17:22:05.816615Z",
     "start_time": "2025-02-02T17:22:05.809790Z"
    }
   },
   "cell_type": "code",
   "source": [
    "# We can add dimensions to a tensor\n",
    "a = torch.arange(6)\n",
    "print(a[None].shape) # Add a dimension of size 1 at the beginning\n",
    "print(a[:, None].shape) # Add a dimension of size 1 at the end\n",
    "print(a[None, :, None].shape) # Add a dimension of size 1 at the beginning and at the end"
   ],
   "id": "4d697ac48f07989a",
   "outputs": [
    {
     "name": "stdout",
     "output_type": "stream",
     "text": [
      "torch.Size([1, 6])\n",
      "torch.Size([6, 1])\n",
      "torch.Size([1, 6, 1])\n"
     ]
    }
   ],
   "execution_count": 49
  },
  {
   "metadata": {
    "ExecuteTime": {
     "end_time": "2025-02-02T17:25:11.895289Z",
     "start_time": "2025-02-02T17:25:11.888450Z"
    }
   },
   "cell_type": "code",
   "source": [
    "# We can remove dimensions from a tensor as long as they are of size 1\n",
    "a = torch.arange(6).view(3, 2, 1, 1)\n",
    "print(a.squeeze(-1).shape) # Remove the last dimension\n",
    "print(a.squeeze().shape) # This will remove all dimensions of size 1. We should never do this as it is dangerous"
   ],
   "id": "8ff7c1bce2a01364",
   "outputs": [
    {
     "name": "stdout",
     "output_type": "stream",
     "text": [
      "torch.Size([3, 2, 1])\n",
      "torch.Size([3, 2])\n"
     ]
    }
   ],
   "execution_count": 51
  },
  {
   "metadata": {
    "ExecuteTime": {
     "end_time": "2025-02-02T17:34:58.619196Z",
     "start_time": "2025-02-02T17:34:58.614513Z"
    }
   },
   "cell_type": "code",
   "source": [
    "# BROADCASTING\n",
    "# We can add tensors of different dimensions as long as we add them along a dimension of size 1. This is called broadcasting\n",
    "a = torch.arange(4).view(4, 1)\n",
    "b = torch.arange(5).view(1, 5)*10\n",
    "print(f'{a = }')\n",
    "print(f'{b = }')\n",
    "print(a + b)\n",
    "print(a * b) # Outer product\n",
    "print(a - b)"
   ],
   "id": "2b7f3ed0d1010c79",
   "outputs": [
    {
     "name": "stdout",
     "output_type": "stream",
     "text": [
      "a = tensor([[0],\n",
      "        [1],\n",
      "        [2],\n",
      "        [3]])\n",
      "b = tensor([[ 0, 10, 20, 30, 40]])\n",
      "tensor([[ 0, 10, 20, 30, 40],\n",
      "        [ 1, 11, 21, 31, 41],\n",
      "        [ 2, 12, 22, 32, 42],\n",
      "        [ 3, 13, 23, 33, 43]])\n",
      "tensor([[  0,   0,   0,   0,   0],\n",
      "        [  0,  10,  20,  30,  40],\n",
      "        [  0,  20,  40,  60,  80],\n",
      "        [  0,  30,  60,  90, 120]])\n",
      "tensor([[  0, -10, -20, -30, -40],\n",
      "        [  1,  -9, -19, -29, -39],\n",
      "        [  2,  -8, -18, -28, -38],\n",
      "        [  3,  -7, -17, -27, -37]])\n"
     ]
    }
   ],
   "execution_count": 55
  },
  {
   "metadata": {
    "ExecuteTime": {
     "end_time": "2025-02-02T17:40:57.812402Z",
     "start_time": "2025-02-02T17:40:57.805797Z"
    }
   },
   "cell_type": "code",
   "source": [
    "# Simple examples of broadcasting\n",
    "x = torch.randn(10, 2)\n",
    "d = torch.zeros(10, 10)\n",
    "max_dist, max_idx = 0, (-1, -1)\n",
    "for i in range(10):\n",
    "    for j in range(10):\n",
    "        if (x[i] - x[j]).pow(2).sum() > max_dist:\n",
    "            max_dist, max_idx = (x[i] - x[j]).pow(2).sum(), (i, j)\n",
    "\n",
    "print(max_dist, max_idx)\n",
    "\n",
    "d = (x[:, None, :] - x[None, :, :]).pow(2).sum(-1)\n",
    "print(d.max(), (d.argmax() // 10, d.argmax() % 10))"
   ],
   "id": "d075200bc2df4bf6",
   "outputs": [
    {
     "name": "stdout",
     "output_type": "stream",
     "text": [
      "tensor(13.2381) (1, 5)\n",
      "tensor(13.2381) (tensor(1), tensor(5))\n"
     ]
    }
   ],
   "execution_count": 61
  },
  {
   "metadata": {
    "ExecuteTime": {
     "end_time": "2025-02-02T17:42:53.447699Z",
     "start_time": "2025-02-02T17:42:53.442670Z"
    }
   },
   "cell_type": "code",
   "source": [
    "# Matrix multiplication between two matrices\n",
    "a = torch.rand(2, 4)\n",
    "b = torch.rand(4)\n",
    "c = b @ a.mT\n",
    "print(c.shape)\n",
    "print(torch.linalg.norm(b))"
   ],
   "id": "333aa882d73672de",
   "outputs": [
    {
     "name": "stdout",
     "output_type": "stream",
     "text": [
      "torch.Size([2])\n",
      "tensor(1.1906)\n"
     ]
    }
   ],
   "execution_count": 67
  }
 ],
 "metadata": {
  "kernelspec": {
   "display_name": "Python 3",
   "language": "python",
   "name": "python3"
  },
  "language_info": {
   "codemirror_mode": {
    "name": "ipython",
    "version": 2
   },
   "file_extension": ".py",
   "mimetype": "text/x-python",
   "name": "python",
   "nbconvert_exporter": "python",
   "pygments_lexer": "ipython2",
   "version": "2.7.6"
  }
 },
 "nbformat": 4,
 "nbformat_minor": 5
}
