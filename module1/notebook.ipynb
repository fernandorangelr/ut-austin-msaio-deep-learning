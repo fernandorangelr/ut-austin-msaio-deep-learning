{
 "cells": [
  {
   "cell_type": "code",
   "id": "11997b4c",
   "metadata": {
    "execution": {
     "iopub.execute_input": "2024-06-09T08:37:34.121346Z",
     "iopub.status.busy": "2024-06-09T08:37:34.121113Z",
     "iopub.status.idle": "2024-06-09T08:37:35.127905Z",
     "shell.execute_reply": "2024-06-09T08:37:35.127368Z"
    },
    "ExecuteTime": {
     "end_time": "2025-02-02T17:03:52.066173Z",
     "start_time": "2025-02-02T17:03:51.331292Z"
    }
   },
   "source": [
    "import torch"
   ],
   "outputs": [],
   "execution_count": 1
  },
  {
   "cell_type": "code",
   "id": "068ee47e",
   "metadata": {
    "execution": {
     "iopub.execute_input": "2024-06-09T08:37:35.131637Z",
     "iopub.status.busy": "2024-06-09T08:37:35.131421Z",
     "iopub.status.idle": "2024-06-09T08:37:35.136280Z",
     "shell.execute_reply": "2024-06-09T08:37:35.135640Z"
    },
    "ExecuteTime": {
     "end_time": "2025-02-02T17:03:52.668016Z",
     "start_time": "2025-02-02T17:03:52.662357Z"
    }
   },
   "source": [
    "a = torch.tensor([1, 2, 3], dtype=torch.float32)\n",
    "print(a)"
   ],
   "outputs": [
    {
     "name": "stdout",
     "output_type": "stream",
     "text": [
      "tensor([1., 2., 3.])\n"
     ]
    }
   ],
   "execution_count": 2
  },
  {
   "cell_type": "code",
   "id": "f0a739ab",
   "metadata": {
    "execution": {
     "iopub.execute_input": "2024-06-09T08:37:35.140174Z",
     "iopub.status.busy": "2024-06-09T08:37:35.140010Z",
     "iopub.status.idle": "2024-06-09T08:37:35.143868Z",
     "shell.execute_reply": "2024-06-09T08:37:35.143461Z"
    },
    "ExecuteTime": {
     "end_time": "2025-02-02T17:03:53.783427Z",
     "start_time": "2025-02-02T17:03:53.778721Z"
    }
   },
   "source": [
    "b = torch.rand([3, 3, 3], dtype=torch.float32)\n",
    "print(b)"
   ],
   "outputs": [
    {
     "name": "stdout",
     "output_type": "stream",
     "text": [
      "tensor([[[0.7540, 0.1962, 0.3059],\n",
      "         [0.7114, 0.9434, 0.3574],\n",
      "         [0.0560, 0.6052, 0.0933]],\n",
      "\n",
      "        [[0.0486, 0.4737, 0.6191],\n",
      "         [0.1586, 0.4190, 0.6119],\n",
      "         [0.8003, 0.8945, 0.7434]],\n",
      "\n",
      "        [[0.2450, 0.8888, 0.3588],\n",
      "         [0.3467, 0.6350, 0.8818],\n",
      "         [0.0775, 0.1563, 0.5743]]])\n"
     ]
    }
   ],
   "execution_count": 3
  },
  {
   "cell_type": "code",
   "id": "b94d9764",
   "metadata": {
    "execution": {
     "iopub.execute_input": "2024-06-09T08:37:35.145548Z",
     "iopub.status.busy": "2024-06-09T08:37:35.145404Z",
     "iopub.status.idle": "2024-06-09T08:37:35.158198Z",
     "shell.execute_reply": "2024-06-09T08:37:35.157576Z"
    },
    "ExecuteTime": {
     "end_time": "2025-02-02T17:03:55.735435Z",
     "start_time": "2025-02-02T17:03:55.312127Z"
    }
   },
   "source": [
    "import numpy as np\n",
    "from PIL import Image\n",
    "\n",
    "img = Image.open(\"cat.jpg\")\n",
    "c = torch.as_tensor(np.array(img)).float()\n",
    "print(c.dtype)"
   ],
   "outputs": [
    {
     "ename": "FileNotFoundError",
     "evalue": "[Errno 2] No such file or directory: 'cat.jpg'",
     "output_type": "error",
     "traceback": [
      "\u001B[0;31m---------------------------------------------------------------------------\u001B[0m",
      "\u001B[0;31mFileNotFoundError\u001B[0m                         Traceback (most recent call last)",
      "Cell \u001B[0;32mIn[4], line 4\u001B[0m\n\u001B[1;32m      1\u001B[0m \u001B[38;5;28;01mimport\u001B[39;00m \u001B[38;5;21;01mnumpy\u001B[39;00m \u001B[38;5;28;01mas\u001B[39;00m \u001B[38;5;21;01mnp\u001B[39;00m\n\u001B[1;32m      2\u001B[0m \u001B[38;5;28;01mfrom\u001B[39;00m \u001B[38;5;21;01mPIL\u001B[39;00m \u001B[38;5;28;01mimport\u001B[39;00m Image\n\u001B[0;32m----> 4\u001B[0m img \u001B[38;5;241m=\u001B[39m Image\u001B[38;5;241m.\u001B[39mopen(\u001B[38;5;124m\"\u001B[39m\u001B[38;5;124mcat.jpg\u001B[39m\u001B[38;5;124m\"\u001B[39m)\n\u001B[1;32m      5\u001B[0m c \u001B[38;5;241m=\u001B[39m torch\u001B[38;5;241m.\u001B[39mas_tensor(np\u001B[38;5;241m.\u001B[39marray(img))\u001B[38;5;241m.\u001B[39mfloat()\n\u001B[1;32m      6\u001B[0m \u001B[38;5;28mprint\u001B[39m(c\u001B[38;5;241m.\u001B[39mdtype)\n",
      "File \u001B[0;32m/opt/miniconda3/envs/deeplearning/lib/python3.11/site-packages/PIL/Image.py:3465\u001B[0m, in \u001B[0;36mopen\u001B[0;34m(fp, mode, formats)\u001B[0m\n\u001B[1;32m   3462\u001B[0m     filename \u001B[38;5;241m=\u001B[39m os\u001B[38;5;241m.\u001B[39mfspath(fp)\n\u001B[1;32m   3464\u001B[0m \u001B[38;5;28;01mif\u001B[39;00m filename:\n\u001B[0;32m-> 3465\u001B[0m     fp \u001B[38;5;241m=\u001B[39m builtins\u001B[38;5;241m.\u001B[39mopen(filename, \u001B[38;5;124m\"\u001B[39m\u001B[38;5;124mrb\u001B[39m\u001B[38;5;124m\"\u001B[39m)\n\u001B[1;32m   3466\u001B[0m     exclusive_fp \u001B[38;5;241m=\u001B[39m \u001B[38;5;28;01mTrue\u001B[39;00m\n\u001B[1;32m   3467\u001B[0m \u001B[38;5;28;01melse\u001B[39;00m:\n",
      "\u001B[0;31mFileNotFoundError\u001B[0m: [Errno 2] No such file or directory: 'cat.jpg'"
     ]
    }
   ],
   "execution_count": 4
  },
  {
   "cell_type": "code",
   "execution_count": null,
   "id": "43e0161d",
   "metadata": {
    "execution": {
     "iopub.execute_input": "2024-06-09T08:37:35.160923Z",
     "iopub.status.busy": "2024-06-09T08:37:35.160535Z",
     "iopub.status.idle": "2024-06-09T08:37:35.165976Z",
     "shell.execute_reply": "2024-06-09T08:37:35.165423Z"
    }
   },
   "outputs": [],
   "source": [
    "a = torch.arange(10)\n",
    "b = torch.ones(10)\n",
    "print(f\"{a = }\")\n",
    "print(f\"{b = }\")\n",
    "print(f\"{a ** (2 * b) = }\")"
   ]
  },
  {
   "cell_type": "code",
   "execution_count": null,
   "id": "9128b54c",
   "metadata": {
    "execution": {
     "iopub.execute_input": "2024-06-09T08:37:35.168573Z",
     "iopub.status.busy": "2024-06-09T08:37:35.168088Z",
     "iopub.status.idle": "2024-06-09T08:37:35.171126Z",
     "shell.execute_reply": "2024-06-09T08:37:35.170620Z"
    }
   },
   "outputs": [],
   "source": [
    "a = torch.rand(4)\n",
    "b = torch.rand(5)\n",
    "# print(a + b)"
   ]
  },
  {
   "cell_type": "code",
   "execution_count": null,
   "id": "9baa33da",
   "metadata": {
    "execution": {
     "iopub.execute_input": "2024-06-09T08:37:35.173572Z",
     "iopub.status.busy": "2024-06-09T08:37:35.173214Z",
     "iopub.status.idle": "2024-06-09T08:37:42.747700Z",
     "shell.execute_reply": "2024-06-09T08:37:42.747161Z"
    }
   },
   "outputs": [],
   "source": [
    "a = torch.rand(500_000_000)\n",
    "b = torch.rand(500_000_000)\n",
    "c = a + b"
   ]
  },
  {
   "cell_type": "code",
   "execution_count": null,
   "id": "cafc32fc",
   "metadata": {
    "execution": {
     "iopub.execute_input": "2024-06-09T08:37:42.750100Z",
     "iopub.status.busy": "2024-06-09T08:37:42.749918Z",
     "iopub.status.idle": "2024-06-09T08:38:04.912233Z",
     "shell.execute_reply": "2024-06-09T08:38:04.911743Z"
    }
   },
   "outputs": [],
   "source": [
    "%timeit c = a + b"
   ]
  },
  {
   "cell_type": "code",
   "execution_count": null,
   "id": "d45adef9",
   "metadata": {
    "execution": {
     "iopub.execute_input": "2024-06-09T08:38:04.914497Z",
     "iopub.status.busy": "2024-06-09T08:38:04.914272Z",
     "iopub.status.idle": "2024-06-09T08:40:55.472577Z",
     "shell.execute_reply": "2024-06-09T08:40:55.471957Z"
    }
   },
   "outputs": [],
   "source": [
    "a_gpu = a.to(\"cuda\")\n",
    "b_gpu = b.to(\"cuda\")\n",
    "%timeit c_gpu = a_gpu + b_gpu"
   ]
  },
  {
   "cell_type": "code",
   "execution_count": null,
   "id": "f150d78f",
   "metadata": {
    "execution": {
     "iopub.execute_input": "2024-06-09T08:40:55.476195Z",
     "iopub.status.busy": "2024-06-09T08:40:55.476035Z",
     "iopub.status.idle": "2024-06-09T08:40:55.565806Z",
     "shell.execute_reply": "2024-06-09T08:40:55.565173Z"
    }
   },
   "outputs": [],
   "source": [
    "a = torch.arange(6)\n",
    "print(a.reshape(2, 3))"
   ]
  },
  {
   "cell_type": "code",
   "execution_count": null,
   "id": "6f06fdc1",
   "metadata": {
    "execution": {
     "iopub.execute_input": "2024-06-09T08:40:55.569471Z",
     "iopub.status.busy": "2024-06-09T08:40:55.569310Z",
     "iopub.status.idle": "2024-06-09T08:40:55.572880Z",
     "shell.execute_reply": "2024-06-09T08:40:55.572431Z"
    }
   },
   "outputs": [],
   "source": [
    "a = torch.rand(2, 3, 4)\n",
    "print(a.permute(1, 2, 0).shape)"
   ]
  },
  {
   "cell_type": "code",
   "execution_count": null,
   "id": "1e55e5f6",
   "metadata": {
    "execution": {
     "iopub.execute_input": "2024-06-09T08:40:55.576166Z",
     "iopub.status.busy": "2024-06-09T08:40:55.576022Z",
     "iopub.status.idle": "2024-06-09T08:40:55.579615Z",
     "shell.execute_reply": "2024-06-09T08:40:55.578922Z"
    }
   },
   "outputs": [],
   "source": [
    "a = torch.arange(6).view(3, 2, 1, 1)\n",
    "print(a.squeeze().shape)"
   ]
  },
  {
   "cell_type": "code",
   "execution_count": null,
   "id": "fe9ac861",
   "metadata": {
    "execution": {
     "iopub.execute_input": "2024-06-09T08:40:55.583638Z",
     "iopub.status.busy": "2024-06-09T08:40:55.583495Z",
     "iopub.status.idle": "2024-06-09T08:40:55.663291Z",
     "shell.execute_reply": "2024-06-09T08:40:55.662663Z"
    },
    "lines_to_next_cell": 2
   },
   "outputs": [],
   "source": [
    "a = torch.arange(4).view(4, 1)\n",
    "b = torch.arange(5).view(1, 5) * 10\n",
    "print(f\"{a = }\")\n",
    "print(f\"{b = }\")\n",
    "print(a - b)"
   ]
  },
  {
   "cell_type": "code",
   "execution_count": null,
   "id": "a7465380",
   "metadata": {
    "execution": {
     "iopub.execute_input": "2024-06-09T08:40:55.666778Z",
     "iopub.status.busy": "2024-06-09T08:40:55.666620Z",
     "iopub.status.idle": "2024-06-09T08:40:55.672665Z",
     "shell.execute_reply": "2024-06-09T08:40:55.672221Z"
    }
   },
   "outputs": [],
   "source": [
    "x = torch.randn(10, 2)\n",
    "d = torch.zeros(10, 10)\n",
    "for i in range(10):\n",
    "    for j in range(10):\n",
    "        d[i, j] = (x[i] - x[j]).pow(2).sum()\n",
    "\n",
    "d = (x[:, None, :] - x[None, :, :]).pow(2).sum(-1)"
   ]
  },
  {
   "cell_type": "code",
   "execution_count": null,
   "id": "3f1bf40d",
   "metadata": {
    "execution": {
     "iopub.execute_input": "2024-06-09T08:40:55.676161Z",
     "iopub.status.busy": "2024-06-09T08:40:55.675881Z",
     "iopub.status.idle": "2024-06-09T08:40:55.683334Z",
     "shell.execute_reply": "2024-06-09T08:40:55.682862Z"
    }
   },
   "outputs": [],
   "source": [
    "x = torch.randn(10, 2)\n",
    "d = torch.zeros(10, 10)\n",
    "max_dist, max_idx = 0, (-1, -1)\n",
    "for i in range(10):\n",
    "    for j in range(10):\n",
    "        if (x[i] - x[j]).pow(2).sum() > max_dist:\n",
    "            max_dist, max_idx = (x[i] - x[j]).pow(2).sum(), (i, j)\n",
    "\n",
    "print(max_dist, max_idx)\n",
    "\n",
    "d = (x[:, None, :] - x[None, :, :]).pow(2).sum(-1)\n",
    "print(d.max(), (d.argmax() // 10, d.argmax() % 10))"
   ]
  },
  {
   "cell_type": "code",
   "execution_count": null,
   "id": "4b09c1b5",
   "metadata": {
    "execution": {
     "iopub.execute_input": "2024-06-09T08:40:55.686278Z",
     "iopub.status.busy": "2024-06-09T08:40:55.686135Z",
     "iopub.status.idle": "2024-06-09T08:40:55.762545Z",
     "shell.execute_reply": "2024-06-09T08:40:55.761926Z"
    }
   },
   "outputs": [],
   "source": [
    "a = torch.rand(2, 4)\n",
    "b = torch.rand(4)\n",
    "c = b @ a.mT\n",
    "print(c.shape)\n",
    "print(torch.linalg.norm(b))\n",
    "# print(b.pow(2).sum().sqrt())"
   ]
  },
  {
   "cell_type": "code",
   "execution_count": null,
   "id": "a496fb4e",
   "metadata": {},
   "outputs": [],
   "source": []
  }
 ],
 "metadata": {
  "kernelspec": {
   "display_name": "base",
   "language": "python",
   "name": "python3"
  },
  "language_info": {
   "codemirror_mode": {
    "name": "ipython",
    "version": 3
   },
   "file_extension": ".py",
   "mimetype": "text/x-python",
   "name": "python",
   "nbconvert_exporter": "python",
   "pygments_lexer": "ipython3",
   "version": "3.11.5"
  }
 },
 "nbformat": 4,
 "nbformat_minor": 5
}
