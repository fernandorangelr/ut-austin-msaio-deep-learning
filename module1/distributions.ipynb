{
 "cells": [
  {
   "cell_type": "code",
   "id": "initial_id",
   "metadata": {
    "collapsed": true,
    "ExecuteTime": {
     "end_time": "2025-02-01T16:36:12.263585Z",
     "start_time": "2025-02-01T16:36:11.302509Z"
    }
   },
   "source": [
    "import torch\n",
    "import torch.distributions as dist"
   ],
   "outputs": [],
   "execution_count": 1
  },
  {
   "metadata": {
    "ExecuteTime": {
     "end_time": "2025-02-01T16:36:16.980724Z",
     "start_time": "2025-02-01T16:36:16.975738Z"
    }
   },
   "cell_type": "code",
   "source": [
    "bernoulli = dist.Bernoulli(torch.tensor([0.5]))  # Create a Bernoulli distribution with 50% probability of producing a 0, and equivalently producing a 1\n",
    "\n",
    "for _ in range(10):\n",
    "    print(bernoulli.sample())"
   ],
   "id": "c951c214fdf4ef39",
   "outputs": [
    {
     "name": "stdout",
     "output_type": "stream",
     "text": [
      "tensor([0.])\n",
      "tensor([0.])\n",
      "tensor([1.])\n",
      "tensor([1.])\n",
      "tensor([1.])\n",
      "tensor([1.])\n",
      "tensor([1.])\n",
      "tensor([1.])\n",
      "tensor([1.])\n",
      "tensor([0.])\n"
     ]
    }
   ],
   "execution_count": 3
  },
  {
   "metadata": {
    "ExecuteTime": {
     "end_time": "2025-02-01T16:36:18.467413Z",
     "start_time": "2025-02-01T16:36:18.454023Z"
    }
   },
   "cell_type": "code",
   "source": [
    "samples = [bernoulli.sample() for _ in range(1000)]\n",
    "print(f'Mean: {torch.mean(torch.stack(samples))}')\n",
    "print(f'Variance: {torch.var(torch.stack(samples))}')"
   ],
   "id": "557e1e734a0f48f7",
   "outputs": [
    {
     "name": "stdout",
     "output_type": "stream",
     "text": [
      "Mean: 0.48399999737739563\n",
      "Variance: 0.24999399483203888\n"
     ]
    }
   ],
   "execution_count": 4
  },
  {
   "metadata": {},
   "cell_type": "markdown",
   "source": "If we look at the actual mean, in theory it should be 0.5, but it isn't\n",
   "id": "15a2ed09f6bd26e3"
  },
  {
   "metadata": {
    "ExecuteTime": {
     "end_time": "2025-02-01T16:36:21.070784Z",
     "start_time": "2025-02-01T16:36:21.064722Z"
    }
   },
   "cell_type": "code",
   "source": [
    "normal = dist.Normal(torch.tensor([0.0]), torch.tensor([1.0]))  # Create a Normal distribution\n",
    "for _ in range(10):\n",
    "    print(normal.sample())"
   ],
   "id": "742c9397e930e350",
   "outputs": [
    {
     "name": "stdout",
     "output_type": "stream",
     "text": [
      "tensor([-0.3568])\n",
      "tensor([-1.5360])\n",
      "tensor([-0.1122])\n",
      "tensor([-2.7131])\n",
      "tensor([-0.5188])\n",
      "tensor([0.8649])\n",
      "tensor([0.0178])\n",
      "tensor([-1.0213])\n",
      "tensor([-1.3732])\n",
      "tensor([-2.3622])\n"
     ]
    }
   ],
   "execution_count": 5
  },
  {
   "metadata": {
    "ExecuteTime": {
     "end_time": "2025-02-01T16:36:22.881189Z",
     "start_time": "2025-02-01T16:36:22.865865Z"
    }
   },
   "cell_type": "code",
   "source": [
    "samples = [normal.sample() for _ in range(1000)]\n",
    "print(f'Mean: {torch.mean(torch.stack(samples))}')\n",
    "print(f'Variance: {torch.var(torch.stack(samples))}')"
   ],
   "id": "6bcfbcf30cab7ed6",
   "outputs": [
    {
     "name": "stdout",
     "output_type": "stream",
     "text": [
      "Mean: -0.021241486072540283\n",
      "Variance: 0.9747005105018616\n"
     ]
    }
   ],
   "execution_count": 6
  },
  {
   "metadata": {},
   "cell_type": "markdown",
   "source": "Again, if we look at the mean, it is not te same as the one we specified. The samples never fully match the original distribution",
   "id": "54d447c2c896ea7a"
  }
 ],
 "metadata": {
  "kernelspec": {
   "display_name": "Python 3",
   "language": "python",
   "name": "python3"
  },
  "language_info": {
   "codemirror_mode": {
    "name": "ipython",
    "version": 2
   },
   "file_extension": ".py",
   "mimetype": "text/x-python",
   "name": "python",
   "nbconvert_exporter": "python",
   "pygments_lexer": "ipython2",
   "version": "2.7.6"
  }
 },
 "nbformat": 4,
 "nbformat_minor": 5
}
