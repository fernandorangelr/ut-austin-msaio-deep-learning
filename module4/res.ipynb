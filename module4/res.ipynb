{
  "cells": [
    {
      "cell_type": "code",
      "execution_count": 1,
      "id": "initial_id",
      "metadata": {
        "collapsed": true,
        "id": "initial_id"
      },
      "outputs": [],
      "source": [
        "import torch\n",
        "from typing import Any"
      ]
    },
    {
      "cell_type": "code",
      "source": [
        "# Residual connections\n",
        "class MyModelLN(torch.nn.Module):\n",
        "  class Block(torch.nn.Module):\n",
        "    def __init__(self, in_channels, out_channels):\n",
        "      super().__init__()\n",
        "      self.model = torch.nn.Sequential(\n",
        "        torch.nn.Linear(in_channels, out_channels),\n",
        "        torch.nn.LayerNorm(out_channels),\n",
        "        torch.nn.ReLU(),\n",
        "        torch.nn.Linear(out_channels, out_channels),\n",
        "        torch.nn.LayerNorm(out_channels),\n",
        "        torch.nn.ReLU()\n",
        "      ) # We can add two blocks before the residual connection\n",
        "\n",
        "      # Validate the number of input channels matches the number of output channels for the residual connections\n",
        "      if in_channels != out_channels:\n",
        "        self.skip = torch.nn.Linear(in_channels, out_channels) # Add a linear layer to change the shape and match the output\n",
        "      else:\n",
        "        self.skip = torch.nn.Identity()\n",
        "\n",
        "    def forward(self, x):\n",
        "      return self.model(x) + self.skip(x) # By adding `x`, we have added a residual network\n",
        "\n",
        "  def __init__(self, layer_size = [512, 512, 512]):\n",
        "    super(MyModelLN, self).__init__()\n",
        "    layers = []\n",
        "    layers.append(torch.nn.Flatten())\n",
        "    c = 128*128*3\n",
        "    layers.append(torch.nn.Linear(c, 512, bias=False)) # Always start with a linear layer, then blocks of residual connections\n",
        "    c = 512 # Update `c` after the first layer\n",
        "    for s in layer_size:\n",
        "      layers.append(self.Block(c, s))\n",
        "      c = s\n",
        "    layers.append(torch.nn.Linear(c, 102, bias=False))\n",
        "    self.model = torch.nn.Sequential(*layers)\n",
        "\n",
        "  def forward(self, x) -> Any:\n",
        "    return self.model(x)\n",
        "\n",
        "x = torch.rand(10, 3, 128, 128)\n",
        "net = MyModelLN([512]*4)\n",
        "print(net(x))"
      ],
      "metadata": {
        "id": "CRo-ix__50rL",
        "outputId": "5d296dfe-2cab-41c6-cf60-ecbdd9dd6576",
        "colab": {
          "base_uri": "https://localhost:8080/"
        }
      },
      "id": "CRo-ix__50rL",
      "execution_count": 9,
      "outputs": [
        {
          "output_type": "stream",
          "name": "stdout",
          "text": [
            "tensor([[ 0.4891, -1.5137, -0.2610,  ..., -0.3551, -2.3938, -0.8180],\n",
            "        [ 1.2984, -1.4633,  0.2115,  ..., -0.9101, -2.0068,  0.1915],\n",
            "        [ 0.8688, -0.8597, -0.3191,  ..., -0.9664, -2.4525, -0.5118],\n",
            "        ...,\n",
            "        [ 1.3604, -1.1332, -0.0411,  ...,  0.0526, -2.3494, -0.6312],\n",
            "        [ 0.3147, -1.7935,  0.5190,  ..., -0.4628, -2.2549,  0.0798],\n",
            "        [ 0.4137, -1.5348,  0.3141,  ..., -0.4908, -2.5118,  0.4319]],\n",
            "       grad_fn=<MmBackward0>)\n"
          ]
        }
      ]
    }
  ],
  "metadata": {
    "kernelspec": {
      "display_name": "Python 3",
      "name": "python3"
    },
    "language_info": {
      "codemirror_mode": {
        "name": "ipython",
        "version": 2
      },
      "file_extension": ".py",
      "mimetype": "text/x-python",
      "name": "python",
      "nbconvert_exporter": "python",
      "pygments_lexer": "ipython2",
      "version": "2.7.6"
    },
    "colab": {
      "provenance": [],
      "gpuType": "T4"
    },
    "accelerator": "GPU"
  },
  "nbformat": 4,
  "nbformat_minor": 5
}