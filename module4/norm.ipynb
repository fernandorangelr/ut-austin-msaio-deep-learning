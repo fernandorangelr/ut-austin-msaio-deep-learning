{
  "cells": [
    {
      "cell_type": "code",
      "execution_count": 6,
      "id": "initial_id",
      "metadata": {
        "collapsed": true,
        "id": "initial_id"
      },
      "outputs": [],
      "source": [
        "import torch\n",
        "from typing import Any"
      ]
    },
    {
      "cell_type": "code",
      "source": [
        "class MyModel(torch.nn.Module):\n",
        "  def __init__(self, layer_size = [512, 512, 512]):\n",
        "    super(MyModel, self).__init__()\n",
        "    layers = []\n",
        "    layers.append(torch.nn.Flatten())\n",
        "    c = 128*128*3\n",
        "    for s in layer_size:\n",
        "      layers.append(torch.nn.Linear(c, s))\n",
        "      layers.append(torch.nn.ReLU())\n",
        "      c = s\n",
        "    layers.append(torch.nn.Linear(c, 102))\n",
        "    self.model = torch.nn.Sequential(*layers)\n",
        "\n",
        "  def forward(self, x) -> Any:\n",
        "    return self.model(x)\n",
        "\n",
        "x = torch.randn(10, 3, 128, 128)\n",
        "for n in range(10):\n",
        "  netn = MyModel([512]*n)\n",
        "  print(f'{n=}  {netn(x).norm()=}')"
      ],
      "metadata": {
        "id": "2SxFHZet3QaF",
        "outputId": "f140420a-5ae3-4303-ec14-89c9ba193c83",
        "colab": {
          "base_uri": "https://localhost:8080/"
        }
      },
      "id": "2SxFHZet3QaF",
      "execution_count": 17,
      "outputs": [
        {
          "output_type": "stream",
          "name": "stdout",
          "text": [
            "n=0  netn(x).norm()=tensor(18.4072, grad_fn=<LinalgVectorNormBackward0>)\n",
            "n=1  netn(x).norm()=tensor(7.7973, grad_fn=<LinalgVectorNormBackward0>)\n",
            "n=2  netn(x).norm()=tensor(3.0652, grad_fn=<LinalgVectorNormBackward0>)\n",
            "n=3  netn(x).norm()=tensor(1.6371, grad_fn=<LinalgVectorNormBackward0>)\n",
            "n=4  netn(x).norm()=tensor(1.0761, grad_fn=<LinalgVectorNormBackward0>)\n",
            "n=5  netn(x).norm()=tensor(0.9141, grad_fn=<LinalgVectorNormBackward0>)\n",
            "n=6  netn(x).norm()=tensor(0.9291, grad_fn=<LinalgVectorNormBackward0>)\n",
            "n=7  netn(x).norm()=tensor(0.9252, grad_fn=<LinalgVectorNormBackward0>)\n",
            "n=8  netn(x).norm()=tensor(0.9160, grad_fn=<LinalgVectorNormBackward0>)\n",
            "n=9  netn(x).norm()=tensor(0.8260, grad_fn=<LinalgVectorNormBackward0>)\n"
          ]
        }
      ]
    },
    {
      "cell_type": "code",
      "source": [
        "# No-bias model\n",
        "class MyModelNoBias(torch.nn.Module):\n",
        "  def __init__(self, layer_size = [512, 512, 512]):\n",
        "    super(MyModelNoBias, self).__init__()\n",
        "    layers = []\n",
        "    layers.append(torch.nn.Flatten())\n",
        "    c = 128*128*3\n",
        "    for s in layer_size:\n",
        "      layers.append(torch.nn.Linear(c, s, bias=False))\n",
        "      layers.append(torch.nn.ReLU())\n",
        "      c = s\n",
        "    layers.append(torch.nn.Linear(c, 102, bias=False))\n",
        "    self.model = torch.nn.Sequential(*layers)\n",
        "\n",
        "  def forward(self, x) -> Any:\n",
        "    return self.model(x)\n",
        "\n",
        "x = torch.randn(10, 3, 128, 128)\n",
        "for n in range(10):\n",
        "  netn = MyModelNoBias([512]*n)\n",
        "  print(f'{n=}  {netn(x).norm()=}')"
      ],
      "metadata": {
        "id": "Q71nJUOE5PYZ",
        "outputId": "0826af4e-77dd-4120-95d5-e7c3e3f0b7a1",
        "colab": {
          "base_uri": "https://localhost:8080/"
        }
      },
      "id": "Q71nJUOE5PYZ",
      "execution_count": 18,
      "outputs": [
        {
          "output_type": "stream",
          "name": "stdout",
          "text": [
            "n=0  netn(x).norm()=tensor(18.3408, grad_fn=<LinalgVectorNormBackward0>)\n",
            "n=1  netn(x).norm()=tensor(7.6698, grad_fn=<LinalgVectorNormBackward0>)\n",
            "n=2  netn(x).norm()=tensor(3.1582, grad_fn=<LinalgVectorNormBackward0>)\n",
            "n=3  netn(x).norm()=tensor(1.2290, grad_fn=<LinalgVectorNormBackward0>)\n",
            "n=4  netn(x).norm()=tensor(0.5043, grad_fn=<LinalgVectorNormBackward0>)\n",
            "n=5  netn(x).norm()=tensor(0.2126, grad_fn=<LinalgVectorNormBackward0>)\n",
            "n=6  netn(x).norm()=tensor(0.0910, grad_fn=<LinalgVectorNormBackward0>)\n",
            "n=7  netn(x).norm()=tensor(0.0335, grad_fn=<LinalgVectorNormBackward0>)\n",
            "n=8  netn(x).norm()=tensor(0.0119, grad_fn=<LinalgVectorNormBackward0>)\n",
            "n=9  netn(x).norm()=tensor(0.0048, grad_fn=<LinalgVectorNormBackward0>)\n"
          ]
        }
      ]
    },
    {
      "cell_type": "code",
      "source": [
        "# No-bias model with batch normalization\n",
        "class MyModelBN(torch.nn.Module):\n",
        "  def __init__(self, layer_size = [512, 512, 512]):\n",
        "    super(MyModelBN, self).__init__()\n",
        "    layers = []\n",
        "    layers.append(torch.nn.Flatten())\n",
        "    c = 128*128*3\n",
        "    for s in layer_size:\n",
        "      layers.append(torch.nn.Linear(c, s, bias=False))\n",
        "      layers.append(torch.nn.BatchNorm1d(s))\n",
        "      layers.append(torch.nn.ReLU())\n",
        "      c = s\n",
        "    layers.append(torch.nn.Linear(c, 102, bias=False))\n",
        "    self.model = torch.nn.Sequential(*layers)\n",
        "\n",
        "  def forward(self, x) -> Any:\n",
        "    return self.model(x)\n",
        "\n",
        "x = torch.randn(10, 3, 128, 128)\n",
        "for n in range(10):\n",
        "  netn = MyModelBN([512]*n)\n",
        "  print(f'{n=}  {netn(x).norm()=}')"
      ],
      "metadata": {
        "id": "GE9GrJPD5cH0",
        "outputId": "8ad8ba49-3a1e-49b5-dad4-535f533ca27f",
        "colab": {
          "base_uri": "https://localhost:8080/"
        }
      },
      "id": "GE9GrJPD5cH0",
      "execution_count": 15,
      "outputs": [
        {
          "output_type": "stream",
          "name": "stdout",
          "text": [
            "n=0  netn(x).norm()=tensor(18.3326, grad_fn=<LinalgVectorNormBackward0>)\n",
            "n=1  netn(x).norm()=tensor(12.6306, grad_fn=<LinalgVectorNormBackward0>)\n",
            "n=2  netn(x).norm()=tensor(13.3191, grad_fn=<LinalgVectorNormBackward0>)\n",
            "n=3  netn(x).norm()=tensor(13.4568, grad_fn=<LinalgVectorNormBackward0>)\n",
            "n=4  netn(x).norm()=tensor(12.9636, grad_fn=<LinalgVectorNormBackward0>)\n",
            "n=5  netn(x).norm()=tensor(12.9115, grad_fn=<LinalgVectorNormBackward0>)\n",
            "n=6  netn(x).norm()=tensor(13.3095, grad_fn=<LinalgVectorNormBackward0>)\n",
            "n=7  netn(x).norm()=tensor(12.5757, grad_fn=<LinalgVectorNormBackward0>)\n",
            "n=8  netn(x).norm()=tensor(11.8785, grad_fn=<LinalgVectorNormBackward0>)\n",
            "n=9  netn(x).norm()=tensor(13.1714, grad_fn=<LinalgVectorNormBackward0>)\n"
          ]
        }
      ]
    },
    {
      "cell_type": "code",
      "source": [
        "# No-bias model with layer normalization\n",
        "class MyModelLN(torch.nn.Module):\n",
        "  def __init__(self, layer_size = [512, 512, 512]):\n",
        "    super(MyModelLN, self).__init__()\n",
        "    layers = []\n",
        "    layers.append(torch.nn.Flatten())\n",
        "    c = 128*128*3\n",
        "    for s in layer_size:\n",
        "      layers.append(torch.nn.Linear(c, s, bias=False))\n",
        "      layers.append(torch.nn.LayerNorm(s))\n",
        "      layers.append(torch.nn.ReLU())\n",
        "      c = s\n",
        "    layers.append(torch.nn.Linear(c, 102, bias=False))\n",
        "    self.model = torch.nn.Sequential(*layers)\n",
        "\n",
        "  def forward(self, x) -> Any:\n",
        "    return self.model(x)\n",
        "\n",
        "x = torch.randn(10, 3, 128, 128)\n",
        "for n in range(10):\n",
        "  netn = MyModelLN([512]*n)\n",
        "  print(f'{n=}  {netn(x).norm()=}')"
      ],
      "metadata": {
        "id": "CRo-ix__50rL",
        "outputId": "1decdde1-0d85-4bdd-915b-80333afbb63f",
        "colab": {
          "base_uri": "https://localhost:8080/"
        }
      },
      "id": "CRo-ix__50rL",
      "execution_count": 19,
      "outputs": [
        {
          "output_type": "stream",
          "name": "stdout",
          "text": [
            "n=0  netn(x).norm()=tensor(18.2750, grad_fn=<LinalgVectorNormBackward0>)\n",
            "n=1  netn(x).norm()=tensor(13.5601, grad_fn=<LinalgVectorNormBackward0>)\n",
            "n=2  netn(x).norm()=tensor(12.4414, grad_fn=<LinalgVectorNormBackward0>)\n",
            "n=3  netn(x).norm()=tensor(14.0265, grad_fn=<LinalgVectorNormBackward0>)\n",
            "n=4  netn(x).norm()=tensor(11.9391, grad_fn=<LinalgVectorNormBackward0>)\n",
            "n=5  netn(x).norm()=tensor(12.7917, grad_fn=<LinalgVectorNormBackward0>)\n",
            "n=6  netn(x).norm()=tensor(13.8482, grad_fn=<LinalgVectorNormBackward0>)\n",
            "n=7  netn(x).norm()=tensor(13.1121, grad_fn=<LinalgVectorNormBackward0>)\n",
            "n=8  netn(x).norm()=tensor(12.0549, grad_fn=<LinalgVectorNormBackward0>)\n",
            "n=9  netn(x).norm()=tensor(12.1029, grad_fn=<LinalgVectorNormBackward0>)\n"
          ]
        }
      ]
    }
  ],
  "metadata": {
    "kernelspec": {
      "display_name": "Python 3",
      "name": "python3"
    },
    "language_info": {
      "codemirror_mode": {
        "name": "ipython",
        "version": 2
      },
      "file_extension": ".py",
      "mimetype": "text/x-python",
      "name": "python",
      "nbconvert_exporter": "python",
      "pygments_lexer": "ipython2",
      "version": "2.7.6"
    },
    "colab": {
      "provenance": [],
      "gpuType": "T4"
    },
    "accelerator": "GPU"
  },
  "nbformat": 4,
  "nbformat_minor": 5
}