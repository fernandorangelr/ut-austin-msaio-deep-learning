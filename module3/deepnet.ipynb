{
  "cells": [
    {
      "cell_type": "code",
      "execution_count": 1,
      "id": "initial_id",
      "metadata": {
        "collapsed": true,
        "id": "initial_id"
      },
      "outputs": [],
      "source": [
        "import torch\n",
        "from typing import Any"
      ]
    },
    {
      "cell_type": "code",
      "source": [
        "class Net(torch.nn.Module):\n",
        "  def __init__(self) -> None:\n",
        "    super().__init__()\n",
        "    self.fc1_x = torch.nn.Linear(1, 10)\n",
        "    self.fc1_y = torch.nn.Linear(1, 10)\n",
        "    self.fc2 = torch.nn.Linear(10, 1)\n",
        "    self.act = torch.nn.ReLU()\n",
        "\n",
        "  def forward(self, x: torch.Tensor, y: torch.Tensor) -> torch.Tensor:\n",
        "    x = self.fc1_x(x)\n",
        "    x = self.act(x)\n",
        "    y = self.fc1_y(y)\n",
        "    y = self.act(y)\n",
        "    return self.fc2(x + y)\n",
        "\n",
        "net = Net()\n",
        "r = net(torch.tensor([1.0]), torch.tensor([2.0]))\n",
        "r.backward()"
      ],
      "metadata": {
        "id": "BJqHla2JT47B"
      },
      "id": "BJqHla2JT47B",
      "execution_count": 7,
      "outputs": []
    }
  ],
  "metadata": {
    "kernelspec": {
      "display_name": "Python 3",
      "name": "python3"
    },
    "language_info": {
      "codemirror_mode": {
        "name": "ipython",
        "version": 2
      },
      "file_extension": ".py",
      "mimetype": "text/x-python",
      "name": "python",
      "nbconvert_exporter": "python",
      "pygments_lexer": "ipython2",
      "version": "2.7.6"
    },
    "colab": {
      "provenance": [],
      "gpuType": "T4"
    },
    "accelerator": "GPU"
  },
  "nbformat": 4,
  "nbformat_minor": 5
}