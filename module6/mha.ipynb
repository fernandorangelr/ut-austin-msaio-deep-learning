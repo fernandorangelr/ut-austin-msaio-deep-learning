{
 "cells": [
  {
   "cell_type": "code",
   "id": "initial_id",
   "metadata": {
    "collapsed": true,
    "ExecuteTime": {
     "end_time": "2025-04-19T15:13:08.320772Z",
     "start_time": "2025-04-19T15:13:08.302990Z"
    }
   },
   "source": [
    "import torch\n",
    "from einops import rearrange"
   ],
   "outputs": [],
   "execution_count": 6
  },
  {
   "metadata": {
    "ExecuteTime": {
     "end_time": "2025-04-19T15:13:10.871006Z",
     "start_time": "2025-04-19T15:13:10.864915Z"
    }
   },
   "cell_type": "code",
   "source": "torch_attention = torch.nn.MultiheadAttention(16, 4, 0, batch_first=True)",
   "id": "376be6fc95bbd6dd",
   "outputs": [],
   "execution_count": 7
  },
  {
   "metadata": {
    "ExecuteTime": {
     "end_time": "2025-04-19T15:13:13.267466Z",
     "start_time": "2025-04-19T15:13:13.244546Z"
    }
   },
   "cell_type": "code",
   "source": [
    "k, v, q = torch.rand(10, 3, 16), torch.rand(10, 3, 16), torch.rand(10, 5, 16)\n",
    "o, _ = torch_attention(q, k, v)\n",
    "print(o.shape)\n",
    "print([(n, v.shape) for n, v in list(torch_attention.named_parameters())])"
   ],
   "id": "925ea00ca4cd18b5",
   "outputs": [
    {
     "name": "stdout",
     "output_type": "stream",
     "text": [
      "torch.Size([10, 5, 16])\n",
      "[('in_proj_weight', torch.Size([48, 16])), ('in_proj_bias', torch.Size([48])), ('out_proj.weight', torch.Size([16, 16])), ('out_proj.bias', torch.Size([16]))]\n"
     ]
    }
   ],
   "execution_count": 8
  },
  {
   "metadata": {
    "ExecuteTime": {
     "end_time": "2025-04-19T15:16:22.883346Z",
     "start_time": "2025-04-19T15:16:22.863640Z"
    }
   },
   "cell_type": "code",
   "source": [
    "class MHA(torch.nn.Module):\n",
    "    def __init__(self, embed_dim, num_heads):\n",
    "        super().__init__()\n",
    "        self.in_proj_k = torch.nn.Linear(embed_dim, embed_dim)\n",
    "        self.in_proj_v = torch.nn.Linear(embed_dim, embed_dim)\n",
    "        self.in_proj_q = torch.nn.Linear(embed_dim, embed_dim)\n",
    "        self.out_proj = torch.nn.Linear(embed_dim, embed_dim)\n",
    "        self.num_heads = num_heads\n",
    "\n",
    "    def forward(self, q, k, v, mask=None):\n",
    "        p_q, p_k, p_v = self.in_proj_q(q), self.in_proj_k(k), self.in_proj_v(v)\n",
    "\n",
    "        r_q = rearrange(p_q, 'b n (h d) -> b h n d', h=self.num_heads)\n",
    "        r_k = rearrange(p_k, 'b n (h d) -> b h n d', h=self.num_heads)\n",
    "        r_v = rearrange(p_v, 'b n (h d) -> b h n d', h=self.num_heads)\n",
    "\n",
    "        scores = torch.einsum('b h m d, b h n d -> b h m n', r_q, r_k)\n",
    "        attn = torch.nn.functional.softmax(scores, dim=-1)\n",
    "        result = torch.einsum('b h m n, b h n d -> b h m d', attn, r_v)\n",
    "        r_result = rearrange(result, 'b h m d -> b m (h d)')\n",
    "        return self.out_proj(r_result)\n",
    "\n",
    "our_attention = MHA(16, 4)\n",
    "o_our = our_attention(q, k, v)\n",
    "o_torch, _ = torch_attention(q, k, v)\n",
    "print(o_our.shape, o_torch.shape)\n"
   ],
   "id": "10cd02945da9305e",
   "outputs": [
    {
     "name": "stdout",
     "output_type": "stream",
     "text": [
      "torch.Size([10, 5, 16]) torch.Size([10, 5, 16])\n"
     ]
    }
   ],
   "execution_count": 12
  }
 ],
 "metadata": {
  "kernelspec": {
   "display_name": "Python 3",
   "language": "python",
   "name": "python3"
  },
  "language_info": {
   "codemirror_mode": {
    "name": "ipython",
    "version": 2
   },
   "file_extension": ".py",
   "mimetype": "text/x-python",
   "name": "python",
   "nbconvert_exporter": "python",
   "pygments_lexer": "ipython2",
   "version": "2.7.6"
  }
 },
 "nbformat": 4,
 "nbformat_minor": 5
}
