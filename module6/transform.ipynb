{
 "cells": [
  {
   "cell_type": "code",
   "id": "initial_id",
   "metadata": {
    "collapsed": true,
    "ExecuteTime": {
     "end_time": "2025-04-20T14:28:01.566822Z",
     "start_time": "2025-04-20T14:28:00.372949Z"
    }
   },
   "source": "import torch",
   "outputs": [],
   "execution_count": 1
  },
  {
   "metadata": {
    "ExecuteTime": {
     "end_time": "2025-04-20T14:34:29.553762Z",
     "start_time": "2025-04-20T14:34:29.496453Z"
    }
   },
   "cell_type": "code",
   "source": [
    "class TransformerLayer(torch.nn.Module):\n",
    "    def __init__(self, embed_dim, num_heads):\n",
    "        super().__init__()\n",
    "        self.num_heads = num_heads\n",
    "\n",
    "        self._self_att = torch.nn.MultiheadAttention(embed_dim, num_heads, batch_first=True)\n",
    "        self._mlp = torch.nn.Sequential(\n",
    "            torch.nn.Linear(embed_dim, 4 * embed_dim),\n",
    "            torch.nn.ReLU(),\n",
    "            torch.nn.Linear(4 * embed_dim, embed_dim),\n",
    "        )\n",
    "        self._in_norm = torch.nn.LayerNorm(embed_dim)\n",
    "        self._mlp_norm = torch.nn.LayerNorm(embed_dim)\n",
    "\n",
    "    def forward(self, x):\n",
    "        x_norm = self._in_norm(x)\n",
    "        x = x + self._self_att(x_norm, x_norm, x_norm)[0] # Get the results of the attention layer. We don't want the weights. That's why we have the index\n",
    "        x = x + self._mlp(self._mlp_norm(x))\n",
    "        return x\n",
    "\n",
    "class Transformer(torch.nn.Module):\n",
    "    def __init__(self, embed_dim, num_heads, num_layers):\n",
    "        super().__init__()\n",
    "        self._network = torch.nn.Sequential(\n",
    "            *[TransformerLayer(embed_dim, num_heads) for _ in range(num_layers)]\n",
    "        )\n",
    "\n",
    "    def forward(self, x):\n",
    "        return self._network(x)\n",
    "\n",
    "net = Transformer(128, 8, 4)\n",
    "print(net(torch.rand(16, 10, 128)).shape)\n",
    "net"
   ],
   "id": "eed5b13ae94ed33f",
   "outputs": [
    {
     "name": "stdout",
     "output_type": "stream",
     "text": [
      "torch.Size([16, 10, 128])\n"
     ]
    },
    {
     "data": {
      "text/plain": [
       "Transformer(\n",
       "  (_network): Sequential(\n",
       "    (0): TransformerLayer(\n",
       "      (_self_att): MultiheadAttention(\n",
       "        (out_proj): NonDynamicallyQuantizableLinear(in_features=128, out_features=128, bias=True)\n",
       "      )\n",
       "      (_mlp): Sequential(\n",
       "        (0): Linear(in_features=128, out_features=512, bias=True)\n",
       "        (1): ReLU()\n",
       "        (2): Linear(in_features=512, out_features=128, bias=True)\n",
       "      )\n",
       "      (_in_norm): LayerNorm((128,), eps=1e-05, elementwise_affine=True)\n",
       "      (_mlp_norm): LayerNorm((128,), eps=1e-05, elementwise_affine=True)\n",
       "    )\n",
       "    (1): TransformerLayer(\n",
       "      (_self_att): MultiheadAttention(\n",
       "        (out_proj): NonDynamicallyQuantizableLinear(in_features=128, out_features=128, bias=True)\n",
       "      )\n",
       "      (_mlp): Sequential(\n",
       "        (0): Linear(in_features=128, out_features=512, bias=True)\n",
       "        (1): ReLU()\n",
       "        (2): Linear(in_features=512, out_features=128, bias=True)\n",
       "      )\n",
       "      (_in_norm): LayerNorm((128,), eps=1e-05, elementwise_affine=True)\n",
       "      (_mlp_norm): LayerNorm((128,), eps=1e-05, elementwise_affine=True)\n",
       "    )\n",
       "    (2): TransformerLayer(\n",
       "      (_self_att): MultiheadAttention(\n",
       "        (out_proj): NonDynamicallyQuantizableLinear(in_features=128, out_features=128, bias=True)\n",
       "      )\n",
       "      (_mlp): Sequential(\n",
       "        (0): Linear(in_features=128, out_features=512, bias=True)\n",
       "        (1): ReLU()\n",
       "        (2): Linear(in_features=512, out_features=128, bias=True)\n",
       "      )\n",
       "      (_in_norm): LayerNorm((128,), eps=1e-05, elementwise_affine=True)\n",
       "      (_mlp_norm): LayerNorm((128,), eps=1e-05, elementwise_affine=True)\n",
       "    )\n",
       "    (3): TransformerLayer(\n",
       "      (_self_att): MultiheadAttention(\n",
       "        (out_proj): NonDynamicallyQuantizableLinear(in_features=128, out_features=128, bias=True)\n",
       "      )\n",
       "      (_mlp): Sequential(\n",
       "        (0): Linear(in_features=128, out_features=512, bias=True)\n",
       "        (1): ReLU()\n",
       "        (2): Linear(in_features=512, out_features=128, bias=True)\n",
       "      )\n",
       "      (_in_norm): LayerNorm((128,), eps=1e-05, elementwise_affine=True)\n",
       "      (_mlp_norm): LayerNorm((128,), eps=1e-05, elementwise_affine=True)\n",
       "    )\n",
       "  )\n",
       ")"
      ]
     },
     "execution_count": 3,
     "metadata": {},
     "output_type": "execute_result"
    }
   ],
   "execution_count": 3
  }
 ],
 "metadata": {
  "kernelspec": {
   "display_name": "Python 3",
   "language": "python",
   "name": "python3"
  },
  "language_info": {
   "codemirror_mode": {
    "name": "ipython",
    "version": 2
   },
   "file_extension": ".py",
   "mimetype": "text/x-python",
   "name": "python",
   "nbconvert_exporter": "python",
   "pygments_lexer": "ipython2",
   "version": "2.7.6"
  }
 },
 "nbformat": 4,
 "nbformat_minor": 5
}
